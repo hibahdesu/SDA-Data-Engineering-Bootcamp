{
 "cells": [
  {
   "cell_type": "code",
   "execution_count": 1,
   "id": "38dfdd1a",
   "metadata": {},
   "outputs": [],
   "source": [
    "# pip install pymysql"
   ]
  },
  {
   "cell_type": "code",
   "execution_count": 2,
   "id": "32e68ab2",
   "metadata": {},
   "outputs": [
    {
     "name": "stdout",
     "output_type": "stream",
     "text": [
      "Note: you may need to restart the kernel to use updated packages.\n"
     ]
    },
    {
     "name": "stderr",
     "output_type": "stream",
     "text": [
      "ERROR: Could not find a version that satisfies the requirement subprocess (from versions: none)\n",
      "ERROR: No matching distribution found for subprocess\n"
     ]
    }
   ],
   "source": [
    "# pip install subprocess"
   ]
  },
  {
   "cell_type": "code",
   "execution_count": 3,
   "id": "1278859e",
   "metadata": {},
   "outputs": [],
   "source": [
    "#Importing the libraries\n",
    "import requests\n",
    "import pandas as pd\n",
    "import json \n",
    "import sqlalchemy as db\n",
    "from dotenv import load_dotenv\n",
    "from datetime import date\n",
    "import os\n",
    "import toml \n",
    "import subprocess\n",
    "import boto3"
   ]
  },
  {
   "cell_type": "code",
   "execution_count": 4,
   "id": "51cda818",
   "metadata": {},
   "outputs": [],
   "source": [
    "\n",
    "def sql_connect(end, user, password, port,schema):\n",
    "    \n",
    "    engine = db.create_engine(f'mysql+pymysql://{user}:{password}@{end}:{port}/{schema}')\n",
    "    return engine\n",
    "\n",
    "connection = sql_connect('lambda-pr.crsu08qay9nu.ap-south-1.rds.amazonaws.com', 'admin', '12345678', 3306, 'superstore')\n",
    "\n",
    "\n",
    "    \n",
    "#Creating a the most purchase from customers \n",
    "sql =  'SELECT CustomerID, ProductID, SUM(Sales) AS most_pur FROM orders GROUP BY CustomerID ORDER BY most_pur DESC LIMIT 10;'\n",
    "        \n",
    "\n",
    "#reading the sql \n",
    "df = pd.read_sql(sql, con=connection)"
   ]
  },
  {
   "cell_type": "code",
   "execution_count": 5,
   "id": "c6b6307a",
   "metadata": {},
   "outputs": [
    {
     "data": {
      "text/html": [
       "<div>\n",
       "<style scoped>\n",
       "    .dataframe tbody tr th:only-of-type {\n",
       "        vertical-align: middle;\n",
       "    }\n",
       "\n",
       "    .dataframe tbody tr th {\n",
       "        vertical-align: top;\n",
       "    }\n",
       "\n",
       "    .dataframe thead th {\n",
       "        text-align: right;\n",
       "    }\n",
       "</style>\n",
       "<table border=\"1\" class=\"dataframe\">\n",
       "  <thead>\n",
       "    <tr style=\"text-align: right;\">\n",
       "      <th></th>\n",
       "      <th>CustomerID</th>\n",
       "      <th>ProductID</th>\n",
       "      <th>most_pur</th>\n",
       "    </tr>\n",
       "  </thead>\n",
       "  <tbody>\n",
       "    <tr>\n",
       "      <th>0</th>\n",
       "      <td>39007820</td>\n",
       "      <td>361951</td>\n",
       "      <td>97011.1940</td>\n",
       "    </tr>\n",
       "    <tr>\n",
       "      <th>1</th>\n",
       "      <td>38079848</td>\n",
       "      <td>373440</td>\n",
       "      <td>70045.9700</td>\n",
       "    </tr>\n",
       "    <tr>\n",
       "      <th>2</th>\n",
       "      <td>107565533</td>\n",
       "      <td>126813</td>\n",
       "      <td>67285.1320</td>\n",
       "    </tr>\n",
       "    <tr>\n",
       "      <th>3</th>\n",
       "      <td>104752832</td>\n",
       "      <td>559119</td>\n",
       "      <td>61350.0900</td>\n",
       "    </tr>\n",
       "    <tr>\n",
       "      <th>4</th>\n",
       "      <td>23905406</td>\n",
       "      <td>464128</td>\n",
       "      <td>56105.7305</td>\n",
       "    </tr>\n",
       "    <tr>\n",
       "      <th>5</th>\n",
       "      <td>91977284</td>\n",
       "      <td>710507</td>\n",
       "      <td>55692.7600</td>\n",
       "    </tr>\n",
       "    <tr>\n",
       "      <th>6</th>\n",
       "      <td>38075002</td>\n",
       "      <td>436896</td>\n",
       "      <td>54685.8000</td>\n",
       "    </tr>\n",
       "    <tr>\n",
       "      <th>7</th>\n",
       "      <td>91811409</td>\n",
       "      <td>789601</td>\n",
       "      <td>54630.1045</td>\n",
       "    </tr>\n",
       "    <tr>\n",
       "      <th>8</th>\n",
       "      <td>59254130</td>\n",
       "      <td>560855</td>\n",
       "      <td>54368.9085</td>\n",
       "    </tr>\n",
       "    <tr>\n",
       "      <th>9</th>\n",
       "      <td>64444841</td>\n",
       "      <td>567704</td>\n",
       "      <td>50131.9595</td>\n",
       "    </tr>\n",
       "  </tbody>\n",
       "</table>\n",
       "</div>"
      ],
      "text/plain": [
       "   CustomerID  ProductID    most_pur\n",
       "0    39007820     361951  97011.1940\n",
       "1    38079848     373440  70045.9700\n",
       "2   107565533     126813  67285.1320\n",
       "3   104752832     559119  61350.0900\n",
       "4    23905406     464128  56105.7305\n",
       "5    91977284     710507  55692.7600\n",
       "6    38075002     436896  54685.8000\n",
       "7    91811409     789601  54630.1045\n",
       "8    59254130     560855  54368.9085\n",
       "9    64444841     567704  50131.9595"
      ]
     },
     "execution_count": 5,
     "metadata": {},
     "output_type": "execute_result"
    }
   ],
   "source": [
    "#Reading the dataframe\n",
    "df"
   ]
  },
  {
   "cell_type": "code",
   "execution_count": 6,
   "id": "933dc1dc",
   "metadata": {},
   "outputs": [],
   "source": [
    "#Saving the dataframe from sql to a json file\n",
    "df.to_json('result.json')"
   ]
  },
  {
   "cell_type": "code",
   "execution_count": 7,
   "id": "564cc453",
   "metadata": {},
   "outputs": [
    {
     "data": {
      "text/html": [
       "<div>\n",
       "<style scoped>\n",
       "    .dataframe tbody tr th:only-of-type {\n",
       "        vertical-align: middle;\n",
       "    }\n",
       "\n",
       "    .dataframe tbody tr th {\n",
       "        vertical-align: top;\n",
       "    }\n",
       "\n",
       "    .dataframe thead th {\n",
       "        text-align: right;\n",
       "    }\n",
       "</style>\n",
       "<table border=\"1\" class=\"dataframe\">\n",
       "  <thead>\n",
       "    <tr style=\"text-align: right;\">\n",
       "      <th></th>\n",
       "      <th>CustomerID</th>\n",
       "    </tr>\n",
       "  </thead>\n",
       "  <tbody>\n",
       "    <tr>\n",
       "      <th>0</th>\n",
       "      <td>39007820</td>\n",
       "    </tr>\n",
       "    <tr>\n",
       "      <th>1</th>\n",
       "      <td>38079848</td>\n",
       "    </tr>\n",
       "    <tr>\n",
       "      <th>2</th>\n",
       "      <td>107565533</td>\n",
       "    </tr>\n",
       "    <tr>\n",
       "      <th>3</th>\n",
       "      <td>104752832</td>\n",
       "    </tr>\n",
       "    <tr>\n",
       "      <th>4</th>\n",
       "      <td>23905406</td>\n",
       "    </tr>\n",
       "  </tbody>\n",
       "</table>\n",
       "</div>"
      ],
      "text/plain": [
       "   CustomerID\n",
       "0    39007820\n",
       "1    38079848\n",
       "2   107565533\n",
       "3   104752832\n",
       "4    23905406"
      ]
     },
     "execution_count": 7,
     "metadata": {},
     "output_type": "execute_result"
    }
   ],
   "source": [
    "df[[\"CustomerID\"]].head()"
   ]
  },
  {
   "cell_type": "code",
   "execution_count": 8,
   "id": "b5dec400",
   "metadata": {},
   "outputs": [],
   "source": [
    "\n",
    "df[[\"CustomerID\"]].to_json('cus_id.json')"
   ]
  },
  {
   "cell_type": "code",
   "execution_count": 12,
   "id": "a901ada8",
   "metadata": {},
   "outputs": [
    {
     "ename": "FileNotFoundError",
     "evalue": "[WinError 2] The system cannot find the file specified",
     "output_type": "error",
     "traceback": [
      "\u001b[1;31m---------------------------------------------------------------------------\u001b[0m",
      "\u001b[1;31mFileNotFoundError\u001b[0m                         Traceback (most recent call last)",
      "\u001b[1;32m~\\AppData\\Local\\Temp\\ipykernel_20352\\2755489402.py\u001b[0m in \u001b[0;36m<cell line: 0>\u001b[1;34m()\u001b[0m\n\u001b[0;32m      3\u001b[0m \u001b[1;33m\u001b[0m\u001b[0m\n\u001b[0;32m      4\u001b[0m \u001b[1;33m\u001b[0m\u001b[0m\n\u001b[1;32m----> 5\u001b[1;33m \u001b[0msubprocess\u001b[0m\u001b[1;33m.\u001b[0m\u001b[0mcall\u001b[0m\u001b[1;33m(\u001b[0m\u001b[1;33m[\u001b[0m\u001b[1;34m'aws'\u001b[0m\u001b[1;33m,\u001b[0m\u001b[1;34m's3'\u001b[0m\u001b[1;33m,\u001b[0m\u001b[1;34m'cp'\u001b[0m\u001b[1;33m,\u001b[0m\u001b[1;34m'cus_id.json'\u001b[0m\u001b[1;33m,\u001b[0m \u001b[1;34m's3://lambda-pr/input/cus_id.json'\u001b[0m\u001b[1;33m]\u001b[0m\u001b[1;33m)\u001b[0m\u001b[1;33m\u001b[0m\u001b[1;33m\u001b[0m\u001b[0m\n\u001b[0m\u001b[0;32m      6\u001b[0m \u001b[1;33m\u001b[0m\u001b[0m\n\u001b[0;32m      7\u001b[0m \u001b[1;33m\u001b[0m\u001b[0m\n",
      "\u001b[1;32m~\\anaconda3\\Lib\\subprocess.py\u001b[0m in \u001b[0;36mcall\u001b[1;34m(timeout, *popenargs, **kwargs)\u001b[0m\n\u001b[0;32m    387\u001b[0m     \u001b[0mretcode\u001b[0m \u001b[1;33m=\u001b[0m \u001b[0mcall\u001b[0m\u001b[1;33m(\u001b[0m\u001b[1;33m[\u001b[0m\u001b[1;34m\"ls\"\u001b[0m\u001b[1;33m,\u001b[0m \u001b[1;34m\"-l\"\u001b[0m\u001b[1;33m]\u001b[0m\u001b[1;33m)\u001b[0m\u001b[1;33m\u001b[0m\u001b[1;33m\u001b[0m\u001b[0m\n\u001b[0;32m    388\u001b[0m     \"\"\"\n\u001b[1;32m--> 389\u001b[1;33m     \u001b[1;32mwith\u001b[0m \u001b[0mPopen\u001b[0m\u001b[1;33m(\u001b[0m\u001b[1;33m*\u001b[0m\u001b[0mpopenargs\u001b[0m\u001b[1;33m,\u001b[0m \u001b[1;33m**\u001b[0m\u001b[0mkwargs\u001b[0m\u001b[1;33m)\u001b[0m \u001b[1;32mas\u001b[0m \u001b[0mp\u001b[0m\u001b[1;33m:\u001b[0m\u001b[1;33m\u001b[0m\u001b[1;33m\u001b[0m\u001b[0m\n\u001b[0m\u001b[0;32m    390\u001b[0m         \u001b[1;32mtry\u001b[0m\u001b[1;33m:\u001b[0m\u001b[1;33m\u001b[0m\u001b[1;33m\u001b[0m\u001b[0m\n\u001b[0;32m    391\u001b[0m             \u001b[1;32mreturn\u001b[0m \u001b[0mp\u001b[0m\u001b[1;33m.\u001b[0m\u001b[0mwait\u001b[0m\u001b[1;33m(\u001b[0m\u001b[0mtimeout\u001b[0m\u001b[1;33m=\u001b[0m\u001b[0mtimeout\u001b[0m\u001b[1;33m)\u001b[0m\u001b[1;33m\u001b[0m\u001b[1;33m\u001b[0m\u001b[0m\n",
      "\u001b[1;32m~\\anaconda3\\Lib\\subprocess.py\u001b[0m in \u001b[0;36m__init__\u001b[1;34m(self, args, bufsize, executable, stdin, stdout, stderr, preexec_fn, close_fds, shell, cwd, env, universal_newlines, startupinfo, creationflags, restore_signals, start_new_session, pass_fds, user, group, extra_groups, encoding, errors, text, umask, pipesize, process_group)\u001b[0m\n\u001b[0;32m   1024\u001b[0m                             encoding=encoding, errors=errors)\n\u001b[0;32m   1025\u001b[0m \u001b[1;33m\u001b[0m\u001b[0m\n\u001b[1;32m-> 1026\u001b[1;33m             self._execute_child(args, executable, preexec_fn, close_fds,\n\u001b[0m\u001b[0;32m   1027\u001b[0m                                 \u001b[0mpass_fds\u001b[0m\u001b[1;33m,\u001b[0m \u001b[0mcwd\u001b[0m\u001b[1;33m,\u001b[0m \u001b[0menv\u001b[0m\u001b[1;33m,\u001b[0m\u001b[1;33m\u001b[0m\u001b[1;33m\u001b[0m\u001b[0m\n\u001b[0;32m   1028\u001b[0m                                 \u001b[0mstartupinfo\u001b[0m\u001b[1;33m,\u001b[0m \u001b[0mcreationflags\u001b[0m\u001b[1;33m,\u001b[0m \u001b[0mshell\u001b[0m\u001b[1;33m,\u001b[0m\u001b[1;33m\u001b[0m\u001b[1;33m\u001b[0m\u001b[0m\n",
      "\u001b[1;32m~\\anaconda3\\Lib\\subprocess.py\u001b[0m in \u001b[0;36m_execute_child\u001b[1;34m(self, args, executable, preexec_fn, close_fds, pass_fds, cwd, env, startupinfo, creationflags, shell, p2cread, p2cwrite, c2pread, c2pwrite, errread, errwrite, unused_restore_signals, unused_gid, unused_gids, unused_uid, unused_umask, unused_start_new_session, unused_process_group)\u001b[0m\n\u001b[0;32m   1536\u001b[0m             \u001b[1;31m# Start the process\u001b[0m\u001b[1;33m\u001b[0m\u001b[1;33m\u001b[0m\u001b[0m\n\u001b[0;32m   1537\u001b[0m             \u001b[1;32mtry\u001b[0m\u001b[1;33m:\u001b[0m\u001b[1;33m\u001b[0m\u001b[1;33m\u001b[0m\u001b[0m\n\u001b[1;32m-> 1538\u001b[1;33m                 hp, ht, pid, tid = _winapi.CreateProcess(executable, args,\n\u001b[0m\u001b[0;32m   1539\u001b[0m                                          \u001b[1;31m# no special security\u001b[0m\u001b[1;33m\u001b[0m\u001b[1;33m\u001b[0m\u001b[0m\n\u001b[0;32m   1540\u001b[0m                                          \u001b[1;32mNone\u001b[0m\u001b[1;33m,\u001b[0m \u001b[1;32mNone\u001b[0m\u001b[1;33m,\u001b[0m\u001b[1;33m\u001b[0m\u001b[1;33m\u001b[0m\u001b[0m\n",
      "\u001b[1;31mFileNotFoundError\u001b[0m: [WinError 2] The system cannot find the file specified"
     ]
    }
   ],
   "source": [
    "bucket='lambda-pr'\n",
    "folder='input'\n",
    "\n",
    "\n",
    "subprocess.call(['aws','s3','cp','cus_id.json', 's3://lambda-pr/input/cus_id.json'])\n",
    "\n",
    "\n",
    "# s3://lambda-pr/input/cus_id.json"
   ]
  },
  {
   "cell_type": "code",
   "execution_count": 14,
   "id": "42d72225",
   "metadata": {},
   "outputs": [],
   "source": [
    "def get_customer_id(cusid_file):\n",
    "    \"\"\"\n",
    "    Read customer_id_file and return a string list of customer_id\n",
    "    \"\"\"\n",
    "    li=[]\n",
    "    with open(cusid_file,'rb') as f:\n",
    "        data = json.load(f)\n",
    "        for value in data[\"CustomerID\"].values():\n",
    "            li.append(str(value))\n",
    "        \n",
    "    id_string = \"(\"+ \",\".join(li)+\")\"\n",
    "    return id_string\n",
    "\n",
    "def get_customer_data(engine, sql):\n",
    "    \"\"\"\n",
    "    Get customer data from database\n",
    "    \"\"\"\n",
    "    mysql_result = engine.execute(sql)\n",
    "    records=[]\n",
    "    for row in mysql_result:\n",
    "        doc={\"id\":row[0], \"name\":row[1], \"date\":date.today().strftime('%Y-%m-%d')}\n",
    "        records.append(doc)\n",
    "    data=json.dumps(records)\n",
    "    return data\n",
    "\n",
    "\n",
    "\n"
   ]
  },
  {
   "cell_type": "code",
   "execution_count": null,
   "id": "b4097072",
   "metadata": {},
   "outputs": [],
   "source": [
    "def lambda_handler(event, context):\n",
    "    print(\"Received event: \" + json.dumps(event, indent=2))\n",
    "    \n",
    "    app_config = toml.load('config.toml')\n",
    "    \n",
    "    api_url = app_config['api']['api_url']\n",
    "    \n",
    "    host=app_config['db']['host']\n",
    "    port=app_config['db']['port']\n",
    "    database=app_config['db']['database']\n",
    "    schema=app_config['db']['schema']\n",
    "\n",
    "\n",
    "    load_dotenv()\n",
    "    user=os.getenv('user')\n",
    "    password=os.getenv('password')\n",
    "    access_key=os.getenv('access_key')\n",
    "    secret_key=os.getenv('secret_key')\n",
    "\n",
    "    # read customer_id_file to local\n",
    "    \n",
    "    s3_client = boto3.client('s3', aws_access_key_id=access_key, aws_secret_access_key=secret_key)\n",
    "    \n",
    "    \n",
    "    bucket = event['Records'][0]['s3']['bucket']['name']\n",
    "    key = event['Records'][0]['s3']['object']['key'].split(\"/\")[1]\n",
    "    \n",
    "    \n",
    "    filepath = \"/tmp/\" +  key\n",
    "    download_key = 'input/'+key\n",
    "    \n",
    "    s3_client.download_file(Bucket=bucket, Key= download_key, Filename=filepath)\n",
    "    \n",
    "\n",
    "\n",
    "    # build the connection to the database\n",
    "    engine = mysql_connect(host, user, password, database, port,schema)\n",
    "    \n",
    "    # get the customer id and insert it into the sql statement\n",
    "    ids = get_customer_id(filepath)\n",
    "\n",
    "    sql=f\"\"\"select CustomerID, CustomerName\n",
    "            from customers\n",
    "            where CustomerID in {ids} ;\n",
    "         \"\"\"\n",
    "    # print(engine)\n",
    "    # get the customer data from database\n",
    "        ### method 1 execute to get result\n",
    "    data = get_customer_data(engine, sql)\n",
    "\n",
    "    #     # method 2 use pandas to_json to get result\n",
    "    # # data = get_customer_data_pandas(engine, sql)\n",
    "\n",
    "    # post data to api\n",
    "    request = requests.post(api_url, data=data)\n",
    "    \n",
    "    \n",
    "    return request.status_code\n"
   ]
  }
 ],
 "metadata": {
  "kernelspec": {
   "display_name": "Python 3 (ipykernel)",
   "language": "python",
   "name": "python3"
  },
  "language_info": {
   "codemirror_mode": {
    "name": "ipython",
    "version": 3
   },
   "file_extension": ".py",
   "mimetype": "text/x-python",
   "name": "python",
   "nbconvert_exporter": "python",
   "pygments_lexer": "ipython3",
   "version": "3.11.5"
  }
 },
 "nbformat": 4,
 "nbformat_minor": 5
}
