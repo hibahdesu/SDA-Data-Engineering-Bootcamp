{
 "cells": [
  {
   "cell_type": "markdown",
   "metadata": {
    "id": "mbckXdTcahxZ"
   },
   "source": [
    "<center>\n",
    "    <img src=\"https://weclouddata.s3.amazonaws.com/images/logos/wcd_logo_new_2.png\" width='30%'>\n",
    "</center>\n",
    "\n",
    "----------\n",
    "\n",
    "<h1 align=\"center\"> Web Scraping 101 </h1>\n",
    "<br>\n",
    "<center align=\"left\"> <font size='4'>  Developed by: </font><font size='4' color='#33AAFBD'>WeCloudData</font></center>\n",
    "<br>\n",
    "\n",
    "----------"
   ]
  },
  {
   "cell_type": "markdown",
   "metadata": {
    "id": "T9QeleOsahxc"
   },
   "source": [
    "# 1. Understanding HTML\n",
    "HTML stands for `HyperText Markup Language`.\n",
    "\n",
    "Learn more about HTML: [w3schools css tutorials](https://www.w3schools.com/css/default.asp)"
   ]
  },
  {
   "cell_type": "markdown",
   "metadata": {
    "id": "GckjWxj1ahxd"
   },
   "source": [
    "## Basic Terminology\n",
    "\n",
    "<img src='https://wikimedia.org/api/rest_v1/media/math/render/svg/37506127f0730d9b6035530f46c706af4e2319d4'></img>"
   ]
  },
  {
   "cell_type": "markdown",
   "metadata": {
    "id": "XhIOU_bPahxd"
   },
   "source": [
    "## Rendering HTML in Jupyter\n",
    "\n",
    "In Jupyter Notebook, there're several ways of rendering (`display`) HTML file.\n",
    "\n",
    "> 1. IPython HTML module\n",
    "> 2. %%html magic"
   ]
  },
  {
   "cell_type": "markdown",
   "metadata": {
    "id": "r4ZI-JBIahxe"
   },
   "source": [
    "### Render HTML in Jupyter with IPython HTML"
   ]
  },
  {
   "cell_type": "code",
   "execution_count": null,
   "metadata": {
    "id": "I_sfO5Heahxe",
    "outputId": "1d126e38-7666-4a63-dd3a-32136757991c"
   },
   "outputs": [
    {
     "data": {
      "text/html": [
       "\n",
       "<html>\n",
       "    <head>\n",
       "        <body>\n",
       "        <h1>First Header</h1>\n",
       "        <h2>Second Header</h2>\n",
       "        <h3>Third Header</h2>\n",
       "        </body>\n",
       "    </head>\n",
       "</html>\n"
      ],
      "text/plain": [
       "<IPython.core.display.HTML object>"
      ]
     },
     "execution_count": 48,
     "metadata": {},
     "output_type": "execute_result"
    }
   ],
   "source": [
    "from IPython.core.display import HTML\n",
    "HTML('''\n",
    "<html>\n",
    "    <head>\n",
    "        <body>\n",
    "        <h1>First Header</h1>\n",
    "        <h2>Second Header</h2>\n",
    "        <h3>Third Header</h2>\n",
    "        </body>\n",
    "    </head>\n",
    "</html>\n",
    "''')"
   ]
  },
  {
   "cell_type": "markdown",
   "metadata": {
    "id": "nHxk0ZEsahxf"
   },
   "source": [
    "### Render HTML in Jupyter with `%%html` magic"
   ]
  },
  {
   "cell_type": "code",
   "execution_count": null,
   "metadata": {
    "id": "REWFBDbTahxf",
    "outputId": "c3bb411d-4faa-4332-b4b3-5737c826a9cb"
   },
   "outputs": [
    {
     "data": {
      "text/html": [
       "\n",
       "<html>\n",
       "    <head>\n",
       "        <body>\n",
       "        <h1>First Header</h1>\n",
       "        <h2>Second Header</h2>\n",
       "        <h3>Third Header</h2>\n",
       "        </body>\n",
       "    </head>\n",
       "</html>\n"
      ],
      "text/plain": [
       "<IPython.core.display.HTML object>"
      ]
     },
     "metadata": {},
     "output_type": "display_data"
    }
   ],
   "source": [
    "%%html\n",
    "\n",
    "<html>\n",
    "    <head>\n",
    "        <body>\n",
    "        <h1>First Header</h1>\n",
    "        <h2>Second Header</h2>\n",
    "        <h3>Third Header</h2>\n",
    "        </body>\n",
    "    </head>\n",
    "</html>"
   ]
  },
  {
   "cell_type": "markdown",
   "metadata": {
    "id": "0xvQ_Izgahxg"
   },
   "source": [
    "## Basic Structure\n",
    "\n",
    "> - `<html>`\n",
    "> - `<head>`\n",
    "> - `<body>`\n",
    "> - `<h1>, <h2>, <h3>`\n",
    "> - `<a>`\n",
    "> - `<img>`"
   ]
  },
  {
   "cell_type": "markdown",
   "metadata": {
    "id": "ZZcb-pr2ahxg"
   },
   "source": [
    "### Writing the basic structure"
   ]
  },
  {
   "cell_type": "code",
   "execution_count": null,
   "metadata": {
    "id": "j6wt7CsNahxg",
    "outputId": "99218cbf-d064-4002-e0e1-072eac1be865"
   },
   "outputs": [
    {
     "data": {
      "text/html": [
       "\n",
       "<html>\n",
       "    <head>\n",
       "    </head>\n",
       "    <body>\n",
       "    </body>\n",
       "</html>\n"
      ],
      "text/plain": [
       "<IPython.core.display.HTML object>"
      ]
     },
     "metadata": {},
     "output_type": "display_data"
    }
   ],
   "source": [
    "%%html\n",
    "\n",
    "<html>\n",
    "    <head>\n",
    "    </head>\n",
    "    <body>\n",
    "    </body>\n",
    "</html>"
   ]
  },
  {
   "cell_type": "markdown",
   "metadata": {
    "id": "kDK8QliPahxh"
   },
   "source": [
    "### Adding Text"
   ]
  },
  {
   "cell_type": "code",
   "execution_count": null,
   "metadata": {
    "id": "BmMhd-N2ahxh",
    "outputId": "241d558e-2212-47d6-cddd-d16bbefcedd5"
   },
   "outputs": [
    {
     "data": {
      "text/html": [
       "\n",
       "<html>\n",
       "    <head>\n",
       "        <title> Portfolio </title>\n",
       "    </head>\n",
       "    <body>\n",
       "        <h1> My Data Engineering Portfolio </h1>\n",
       "        <h2> by WeCloudData Academy </h2>\n",
       "\n",
       "        <p> This web page contains the data engineering projects I worked during my learning journey. </p>\n",
       "    </body>\n",
       "</html>\n"
      ],
      "text/plain": [
       "<IPython.core.display.HTML object>"
      ]
     },
     "metadata": {},
     "output_type": "display_data"
    }
   ],
   "source": [
    "%%html\n",
    "\n",
    "<html>\n",
    "    <head>\n",
    "        <title> Portfolio </title>\n",
    "    </head>\n",
    "    <body>\n",
    "        <h1> My Data Engineering Portfolio </h1>\n",
    "        <h2> by WeCloudData Academy </h2>\n",
    "\n",
    "        <p> This web page contains the data engineering projects I worked during my learning journey. </p>\n",
    "    </body>\n",
    "</html>"
   ]
  },
  {
   "cell_type": "markdown",
   "metadata": {
    "id": "Apayj4kVahxh"
   },
   "source": [
    "### Text Alignment"
   ]
  },
  {
   "cell_type": "code",
   "execution_count": null,
   "metadata": {
    "id": "WM9LiNr_ahxh",
    "outputId": "a640d75e-4f54-40f2-90f4-b5bdfc1b38f3"
   },
   "outputs": [
    {
     "data": {
      "text/html": [
       "\n",
       "<html>\n",
       "    <head>\n",
       "        <title> Portfolio </title>\n",
       "    </head>\n",
       "    <body>\n",
       "        <h1 align='center'> My Data Engineering Portfolio </h1>\n",
       "        <h2 align='center'> by WeCloudData Academy </h2>\n",
       "\n",
       "        <p> This web page contains the data engineering projects I worked during my learning journey. </p>\n",
       "    </body>\n",
       "</html>\n"
      ],
      "text/plain": [
       "<IPython.core.display.HTML object>"
      ]
     },
     "metadata": {},
     "output_type": "display_data"
    }
   ],
   "source": [
    "%%html\n",
    "\n",
    "<html>\n",
    "    <head>\n",
    "        <title> Portfolio </title>\n",
    "    </head>\n",
    "    <body>\n",
    "        <h1 align='center'> My Data Engineering Portfolio </h1>\n",
    "        <h2 align='center'> by WeCloudData Academy </h2>\n",
    "\n",
    "        <p> This web page contains the data engineering projects I worked during my learning journey. </p>\n",
    "    </body>\n",
    "</html>"
   ]
  },
  {
   "cell_type": "markdown",
   "metadata": {
    "id": "6X-Tz_pSahxi"
   },
   "source": [
    "### Adding Lists"
   ]
  },
  {
   "cell_type": "code",
   "execution_count": null,
   "metadata": {
    "id": "4u0LIGhQahxi",
    "outputId": "172671a7-eb92-4042-f4a5-a7ca0f169dbd"
   },
   "outputs": [
    {
     "data": {
      "text/html": [
       "\n",
       "<html>\n",
       "    <head>\n",
       "        <title> Portfolio </title>\n",
       "    </head>\n",
       "    <body>\n",
       "        <h1 align='center'> My Data Engineering Portfolio </h1>\n",
       "        <h2 align='center'> by WeCloudData Academy </h2>\n",
       "\n",
       "        <p> This web page contains the data engineering projects I worked during my learning journey. </p>\n",
       "        <p> In the past 6 months, I have completed 3 data engineering projects, covering sql, python, machine learning, and big data. </p>\n",
       "        <ul>\n",
       "            <li> Job market analysis with Pandas and Beautifulsoup</li>\n",
       "            <li> Customer churn analysis with predictive modeling</li>\n",
       "            <li> Sentiment classification with deep learning</li>\n",
       "            <li> Big data analysis with spark and AWS</li>\n",
       "        </ul>\n",
       "    </body>\n",
       "</html>\n"
      ],
      "text/plain": [
       "<IPython.core.display.HTML object>"
      ]
     },
     "metadata": {},
     "output_type": "display_data"
    }
   ],
   "source": [
    "%%html\n",
    "\n",
    "<html>\n",
    "    <head>\n",
    "        <title> Portfolio </title>\n",
    "    </head>\n",
    "    <body>\n",
    "        <h1 align='center'> My Data Engineering Portfolio </h1>\n",
    "        <h2 align='center'> by WeCloudData Academy </h2>\n",
    "\n",
    "        <p> This web page contains the data engineering projects I worked during my learning journey. </p>\n",
    "        <p> In the past 6 months, I have completed 3 data engineering projects, covering sql, python, machine learning, and big data. </p>\n",
    "        <ul>\n",
    "            <li> Job market analysis with Pandas and Beautifulsoup</li>\n",
    "            <li> Customer churn analysis with predictive modeling</li>\n",
    "            <li> Sentiment classification with deep learning</li>\n",
    "            <li> Big data analysis with spark and AWS</li>\n",
    "        </ul>\n",
    "    </body>\n",
    "</html>"
   ]
  },
  {
   "cell_type": "markdown",
   "metadata": {
    "id": "oe5kTkFTahxi"
   },
   "source": [
    "### Adding Links\n",
    "\n",
    "> `<a href='www.google.com'> Google </a>`"
   ]
  },
  {
   "cell_type": "code",
   "execution_count": null,
   "metadata": {
    "id": "K0t4kltXahxi",
    "outputId": "bb869cc9-3526-488d-984e-06aa83b0a3df"
   },
   "outputs": [
    {
     "data": {
      "text/html": [
       "\n",
       "<html>\n",
       "    <head>\n",
       "        <title> Portfolio </title>\n",
       "    </head>\n",
       "    <body>\n",
       "        <h1 align='center'> My Data Engineering Portfolio </h1>\n",
       "        <h2 align='center'> by WeCloudData Academy </h2>\n",
       "\n",
       "        <p> This web page contains the data engineering projects I worked during my learning journey. </p>\n",
       "        <p> In the past 6 months, I have completed 3 data engineering projects, covering sql, python, machine learning, and big data. </p>\n",
       "        <ul>\n",
       "            <li> Job market analysis with Pandas and Beautifulsoup <a href='https://www.google.com'> (link) </a></li>\n",
       "            <li> Customer churn analysis with predictive modeling <a href='https://facebook.com'> (link) </a></li>\n",
       "            <li> Sentiment classification with deep learning <a href='https://twitter.com'> (link) </a></li>\n",
       "            <li> Big data analysis with spark and AWS <a href='https://www.tiktok.com'> (link) </a></li>\n",
       "        </ul>\n",
       "    </body>\n",
       "</html>\n"
      ],
      "text/plain": [
       "<IPython.core.display.HTML object>"
      ]
     },
     "metadata": {},
     "output_type": "display_data"
    }
   ],
   "source": [
    "%%html\n",
    "\n",
    "<html>\n",
    "    <head>\n",
    "        <title> Portfolio </title>\n",
    "    </head>\n",
    "    <body>\n",
    "        <h1 align='center'> My Data Engineering Portfolio </h1>\n",
    "        <h2 align='center'> by WeCloudData Academy </h2>\n",
    "\n",
    "        <p> This web page contains the data engineering projects I worked during my learning journey. </p>\n",
    "        <p> In the past 6 months, I have completed 3 data engineering projects, covering sql, python, machine learning, and big data. </p>\n",
    "        <ul>\n",
    "            <li> Job market analysis with Pandas and Beautifulsoup <a href='https://www.google.com'> (link) </a></li>\n",
    "            <li> Customer churn analysis with predictive modeling <a href='https://facebook.com'> (link) </a></li>\n",
    "            <li> Sentiment classification with deep learning <a href='https://twitter.com'> (link) </a></li>\n",
    "            <li> Big data analysis with spark and AWS <a href='https://www.tiktok.com'> (link) </a></li>\n",
    "        </ul>\n",
    "    </body>\n",
    "</html>"
   ]
  },
  {
   "cell_type": "markdown",
   "metadata": {
    "id": "ZBu7_Uxeahxj"
   },
   "source": [
    "### Adding Images"
   ]
  },
  {
   "cell_type": "code",
   "execution_count": null,
   "metadata": {
    "id": "ppHy2XLfahxj",
    "outputId": "79f28a0d-5745-4381-d1f1-ff30187cd381"
   },
   "outputs": [
    {
     "data": {
      "text/html": [
       "\n",
       "<html>\n",
       "    <head>\n",
       "        <title> Portfolio </title>\n",
       "    </head>\n",
       "    <body>\n",
       "        <h1 align='center'> My Data Engineering Portfolio </h1>\n",
       "        <h2 align='center'> by WeCloudData Academy </h2>\n",
       "        <img src=\"https://www.weclouddata.com/wp-content/uploads/2021/01/WCD-Logo.svg\" width='10%' ></a>\n",
       "\n",
       "        <p> This web page contains the data engineering projects I worked during my learning journey. </p>\n",
       "        <p> In the past 6 months, I have completed 3 data engineering projects, covering sql, python, machine learning, and big data. </p>\n",
       "        <ul>\n",
       "            <li> Job market analysis with Pandas and Beautifulsoup <a href='https://www.google.com'> (link) </a></li>\n",
       "            <li> Customer churn analysis with predictive modeling <a href='www.google.com'> (link) </a></li>\n",
       "            <li> Sentiment classification with deep learning <a href='www.google.com'> (link) </a></li>\n",
       "            <li> Big data analysis with spark and AWS <a href='www.google.com'> (link) </a></li>\n",
       "        </ul>\n",
       "    </body>\n",
       "</html>\n"
      ],
      "text/plain": [
       "<IPython.core.display.HTML object>"
      ]
     },
     "metadata": {},
     "output_type": "display_data"
    }
   ],
   "source": [
    "%%html\n",
    "\n",
    "<html>\n",
    "    <head>\n",
    "        <title> Portfolio </title>\n",
    "    </head>\n",
    "    <body>\n",
    "        <h1 align='center'> My Data Engineering Portfolio </h1>\n",
    "        <h2 align='center'> by WeCloudData Academy </h2>\n",
    "        <img src=\"https://www.weclouddata.com/wp-content/uploads/2021/01/WCD-Logo.svg\" width='10%' ></a>\n",
    "\n",
    "        <p> This web page contains the data engineering projects I worked during my learning journey. </p>\n",
    "        <p> In the past 6 months, I have completed 3 data engineering projects, covering sql, python, machine learning, and big data. </p>\n",
    "        <ul>\n",
    "            <li> Job market analysis with Pandas and Beautifulsoup <a href='https://www.google.com'> (link) </a></li>\n",
    "            <li> Customer churn analysis with predictive modeling <a href='www.google.com'> (link) </a></li>\n",
    "            <li> Sentiment classification with deep learning <a href='www.google.com'> (link) </a></li>\n",
    "            <li> Big data analysis with spark and AWS <a href='www.google.com'> (link) </a></li>\n",
    "        </ul>\n",
    "    </body>\n",
    "</html>"
   ]
  },
  {
   "cell_type": "markdown",
   "metadata": {
    "id": "v9fsXGFZahxj"
   },
   "source": [
    "### Adding Style: Class & ID\n",
    "\n",
    "> - Both `class` and `id` are attributes\n",
    "> - A Class name can be used by multiple HTML elements\n",
    "    > - Class name is identified with `#`\n",
    "> - An ID name must only be used by one HTML element within the page.\n",
    "    > - ID name is identified with `.`"
   ]
  },
  {
   "cell_type": "code",
   "execution_count": null,
   "metadata": {
    "id": "2qVq9UcSahxk",
    "outputId": "33c0a748-4ad3-49cf-aee4-a6095e449579"
   },
   "outputs": [
    {
     "data": {
      "text/html": [
       "\n",
       "    <head>\n",
       "        <title> Portfolio </title>\n",
       "    </head>\n",
       "    <style>\n",
       "        #mytitle {\n",
       "            font-size: 60;\n",
       "            color: purple;\n",
       "        }\n",
       "        .imgclass {\n",
       "            display: block;\n",
       "            margin-left: auto;\n",
       "            margin-right: auto;\n",
       "        }\n",
       "    </style>\n",
       "    <body>\n",
       "        <h1 id='mytitle' align='center'> My Data Engineering Portfolio </h1>\n",
       "        <h2 align='center'> by WeCloudData Academy </h2>\n",
       "        <img class='imgcls' style=\"text-align: center;\" src=\"https://www.weclouddata.com/wp-content/uploads/2021/01/WCD-Logo.svg\" width='10%' ></a>\n",
       "\n",
       "        <p> This web page contains the data engineering projects I worked during my learning journey. </p>\n",
       "        <p> In the past 6 months, I have completed 3 data engineering projects, covering sql, python, machine learning, and big data. </p>\n",
       "        <ul>\n",
       "            <li> Job market analysis with Pandas and Beautifulsoup <a href='https://www.google.com'> (link) </a></li>\n",
       "            <li> Customer churn analysis with predictive modeling <a href='https://facebook.com'> (link) </a></li>\n",
       "            <li> Sentiment classification with deep learning <a href='https://twitter.com'> (link) </a></li>\n",
       "            <li> Big data analysis with spark and AWS <a href='https://www.tiktok.com'> (link) </a></li>\n",
       "        </ul>\n",
       "    </body>\n",
       "</html>\n"
      ],
      "text/plain": [
       "<IPython.core.display.HTML object>"
      ]
     },
     "metadata": {},
     "output_type": "display_data"
    }
   ],
   "source": [
    "%%html\n",
    "\n",
    "    <head>\n",
    "        <title> Portfolio </title>\n",
    "    </head>\n",
    "    <style>\n",
    "        #mytitle {\n",
    "            font-size: 60;\n",
    "            color: purple;\n",
    "        }\n",
    "        .imgclass {\n",
    "            display: block;\n",
    "            margin-left: auto;\n",
    "            margin-right: auto;\n",
    "        }\n",
    "    </style>\n",
    "    <body>\n",
    "        <h1 id='mytitle' align='center'> My Data Engineering Portfolio </h1>\n",
    "        <h2 align='center'> by WeCloudData Academy </h2>\n",
    "        <img class='imgcls' style=\"text-align: center;\" src=\"https://www.weclouddata.com/wp-content/uploads/2021/01/WCD-Logo.svg\" width='10%' ></a>\n",
    "\n",
    "        <p> This web page contains the data engineering projects I worked during my learning journey. </p>\n",
    "        <p> In the past 6 months, I have completed 3 data engineering projects, covering sql, python, machine learning, and big data. </p>\n",
    "        <ul>\n",
    "            <li> Job market analysis with Pandas and Beautifulsoup <a href='https://www.google.com'> (link) </a></li>\n",
    "            <li> Customer churn analysis with predictive modeling <a href='https://facebook.com'> (link) </a></li>\n",
    "            <li> Sentiment classification with deep learning <a href='https://twitter.com'> (link) </a></li>\n",
    "            <li> Big data analysis with spark and AWS <a href='https://www.tiktok.com'> (link) </a></li>\n",
    "        </ul>\n",
    "    </body>\n",
    "</html>"
   ]
  },
  {
   "cell_type": "markdown",
   "metadata": {
    "id": "W5NnZPvuahxk"
   },
   "source": [
    "### Adding Tables\n",
    "\n",
    "```\n",
    "<table>\n",
    "    <tr>\n",
    "        <th> </th>\n",
    "        <td> </td>\n",
    "        <td> </td>\n",
    "    </tr>\n",
    "    <tr>\n",
    "        <td> </td>\n",
    "        <td> </td>\n",
    "    </tr>\n",
    "</table>\n",
    "\n",
    "# The <table> tag is used to create a table in HTML\n",
    "# The <tr> tag is used to create a row\n",
    "# The <th> tag is used to define the header.\n",
    "# The <td> tag is used to define the cell within the row.\n",
    "```"
   ]
  },
  {
   "cell_type": "code",
   "execution_count": null,
   "metadata": {
    "id": "4Iaty_YXahxl",
    "outputId": "1f7c2e7b-657b-4192-99d1-3da175c90c33"
   },
   "outputs": [
    {
     "data": {
      "text/html": [
       "\n",
       "<html>\n",
       "    <head>\n",
       "        <title> Portfolio </title>\n",
       "    </head>\n",
       "    <style>\n",
       "        #mytitle {\n",
       "            font-size: 60;\n",
       "            color: purple;\n",
       "        }\n",
       "        .imgclass {\n",
       "            display: block;\n",
       "            margin-left: auto;\n",
       "            margin-right: auto;\n",
       "        }\n",
       "    </style>\n",
       "    <body>\n",
       "        <h1 id='mytitle' align='center'> My Data Engineering Portfolio </h1>\n",
       "        <h2 align='center'> by WeCloudData Academy </h2>\n",
       "        <img class='imgcls' style=\"text-align: center;\" src=\"https://www.weclouddata.com/wp-content/uploads/2021/01/WCD-Logo.svg\" width='10%' ></a>\n",
       "\n",
       "        <p> This web page contains the data eEngineering projects I worked during my learning journey. </p>\n",
       "        <p> In the past 6 months, I have completed 3 data engineering projects, covering sql, python, machine learning, and big data. </p>\n",
       "        <ul>\n",
       "            <li> Job market analysis with Pandas and Beautifulsoup <a href='https://www.google.com'> (link) </a></li>\n",
       "            <li> Customer churn analysis with predictive modeling <a href='https://facebook.com'> (link) </a></li>\n",
       "            <li> Sentiment classification with deep learning <a href='https://twitter.com'> (link) </a></li>\n",
       "            <li> Big data analysis with spark and AWS <a href='https://www.tiktok.com'> (link) </a></li>\n",
       "        </ul>\n",
       "\n",
       "        <table>\n",
       "            <tr>\n",
       "                <th> Project Title </th>\n",
       "                <th> Tools Used </th>\n",
       "            </tr>\n",
       "            <tr>\n",
       "                <td> Job market analysis with Pandas and Beautifulsoup </td>\n",
       "                <td> Pandas, Python, Beautisoup, Selenium</td>\n",
       "            </tr>\n",
       "            <tr>\n",
       "                <td> Customer churn analysis with predictive modeling </td>\n",
       "                <td> Python, Scikit-learn, Machine Learning, Classification</td>\n",
       "            </tr>\n",
       "            <tr>\n",
       "                <td> Sentiment classification with deep learning </td>\n",
       "                <td> Python, NLTK, PyTorch</td>\n",
       "            </tr>\n",
       "        </table>\n",
       "    </body>\n",
       "</html>\n"
      ],
      "text/plain": [
       "<IPython.core.display.HTML object>"
      ]
     },
     "metadata": {},
     "output_type": "display_data"
    }
   ],
   "source": [
    "%%html\n",
    "\n",
    "<html>\n",
    "    <head>\n",
    "        <title> Portfolio </title>\n",
    "    </head>\n",
    "    <style>\n",
    "        #mytitle {\n",
    "            font-size: 60;\n",
    "            color: purple;\n",
    "        }\n",
    "        .imgclass {\n",
    "            display: block;\n",
    "            margin-left: auto;\n",
    "            margin-right: auto;\n",
    "        }\n",
    "    </style>\n",
    "    <body>\n",
    "        <h1 id='mytitle' align='center'> My Data Engineering Portfolio </h1>\n",
    "        <h2 align='center'> by WeCloudData Academy </h2>\n",
    "        <img class='imgcls' style=\"text-align: center;\" src=\"https://www.weclouddata.com/wp-content/uploads/2021/01/WCD-Logo.svg\" width='10%' ></a>\n",
    "\n",
    "        <p> This web page contains the data eEngineering projects I worked during my learning journey. </p>\n",
    "        <p> In the past 6 months, I have completed 3 data engineering projects, covering sql, python, machine learning, and big data. </p>\n",
    "        <ul>\n",
    "            <li> Job market analysis with Pandas and Beautifulsoup <a href='https://www.google.com'> (link) </a></li>\n",
    "            <li> Customer churn analysis with predictive modeling <a href='https://facebook.com'> (link) </a></li>\n",
    "            <li> Sentiment classification with deep learning <a href='https://twitter.com'> (link) </a></li>\n",
    "            <li> Big data analysis with spark and AWS <a href='https://www.tiktok.com'> (link) </a></li>\n",
    "        </ul>\n",
    "\n",
    "        <table>\n",
    "            <tr>\n",
    "                <th> Project Title </th>\n",
    "                <th> Tools Used </th>\n",
    "            </tr>\n",
    "            <tr>\n",
    "                <td> Job market analysis with Pandas and Beautifulsoup </td>\n",
    "                <td> Pandas, Python, Beautisoup, Selenium</td>\n",
    "            </tr>\n",
    "            <tr>\n",
    "                <td> Customer churn analysis with predictive modeling </td>\n",
    "                <td> Python, Scikit-learn, Machine Learning, Classification</td>\n",
    "            </tr>\n",
    "            <tr>\n",
    "                <td> Sentiment classification with deep learning </td>\n",
    "                <td> Python, NLTK, PyTorch</td>\n",
    "            </tr>\n",
    "        </table>\n",
    "    </body>\n",
    "</html>"
   ]
  },
  {
   "cell_type": "markdown",
   "metadata": {
    "id": "Pr6tM1m1ahxl"
   },
   "source": [
    "### Styling the table"
   ]
  },
  {
   "cell_type": "code",
   "execution_count": null,
   "metadata": {
    "id": "f70-u055ahxm",
    "outputId": "c392995a-1381-44b4-9c1f-c75a88244b04"
   },
   "outputs": [
    {
     "data": {
      "text/html": [
       "\n",
       "<html>\n",
       "    <head>\n",
       "        <title> Portfolio </title>\n",
       "    </head>\n",
       "    <style>\n",
       "        #mytitle {\n",
       "            font-size: 60;\n",
       "            color: purple;\n",
       "        }\n",
       "        .imgclass {\n",
       "            display: block;\n",
       "            margin-left: auto;\n",
       "            margin-right: auto;\n",
       "        }\n",
       "        table, th, td {\n",
       "            border: 2px solid black;\n",
       "            border-collapse: collapse;\n",
       "        }\n",
       "    </style>\n",
       "    <body>\n",
       "        <h1 id='mytitle' align='center'> My Data Engineering Portfolio </h1>\n",
       "        <h2 align='center'> by WeCloudData Academy </h2>\n",
       "        <img class='imgcls' style=\"text-align: center;\" src=\"https://www.weclouddata.com/wp-content/uploads/2021/01/WCD-Logo.svg\" width='10%' ></a>\n",
       "\n",
       "        <p> This web page contains the data engineering projects I worked during my learning journey. </p>\n",
       "        <p> In the past 6 months, I have completed 3 data engineering projects, covering sql, python, machine learning, and big data. </p>\n",
       "        <ul>\n",
       "            <li> Job market analysis with Pandas and Beautifulsoup <a href='https://www.google.com'> (link) </a></li>\n",
       "            <li> Customer churn analysis with predictive modeling <a href='https://facebook.com'> (link) </a></li>\n",
       "            <li> Sentiment classification with deep learning <a href='https://twitter.com'> (link) </a></li>\n",
       "            <li> Big data analysis with spark and AWS <a href='https://www.tiktok.com'> (link) </a></li>\n",
       "        </ul>\n",
       "\n",
       "        <table>\n",
       "            <tr>\n",
       "                <th> Project Title </th>\n",
       "                <th> Tools Used </th>\n",
       "            </tr>\n",
       "            <tr>\n",
       "                <td> Job market analysis with Pandas and Beautifulsoup </td>\n",
       "                <td> Pandas, Python, Beautisoup, Selenium</td>\n",
       "            </tr>\n",
       "            <tr>\n",
       "                <td> Customer churn analysis with predictive modeling </td>\n",
       "                <td> Python, Scikit-learn, Machine Learning, Classification</td>\n",
       "            </tr>\n",
       "            <tr>\n",
       "                <td> Sentiment classification with deep learning </td>\n",
       "                <td> Python, NLTK, PyTorch</td>\n",
       "            </tr>\n",
       "        </table>\n",
       "    </body>\n",
       "</html>\n"
      ],
      "text/plain": [
       "<IPython.core.display.HTML object>"
      ]
     },
     "metadata": {},
     "output_type": "display_data"
    }
   ],
   "source": [
    "%%html\n",
    "\n",
    "<html>\n",
    "    <head>\n",
    "        <title> Portfolio </title>\n",
    "    </head>\n",
    "    <style>\n",
    "        #mytitle {\n",
    "            font-size: 60;\n",
    "            color: purple;\n",
    "        }\n",
    "        .imgclass {\n",
    "            display: block;\n",
    "            margin-left: auto;\n",
    "            margin-right: auto;\n",
    "        }\n",
    "        table, th, td {\n",
    "            border: 2px solid black;\n",
    "            border-collapse: collapse;\n",
    "        }\n",
    "    </style>\n",
    "    <body>\n",
    "        <h1 id='mytitle' align='center'> My Data Engineering Portfolio </h1>\n",
    "        <h2 align='center'> by WeCloudData Academy </h2>\n",
    "        <img class='imgcls' style=\"text-align: center;\" src=\"https://www.weclouddata.com/wp-content/uploads/2021/01/WCD-Logo.svg\" width='10%' ></a>\n",
    "\n",
    "        <p> This web page contains the data engineering projects I worked during my learning journey. </p>\n",
    "        <p> In the past 6 months, I have completed 3 data engineering projects, covering sql, python, machine learning, and big data. </p>\n",
    "        <ul>\n",
    "            <li> Job market analysis with Pandas and Beautifulsoup <a href='https://www.google.com'> (link) </a></li>\n",
    "            <li> Customer churn analysis with predictive modeling <a href='https://facebook.com'> (link) </a></li>\n",
    "            <li> Sentiment classification with deep learning <a href='https://twitter.com'> (link) </a></li>\n",
    "            <li> Big data analysis with spark and AWS <a href='https://www.tiktok.com'> (link) </a></li>\n",
    "        </ul>\n",
    "\n",
    "        <table>\n",
    "            <tr>\n",
    "                <th> Project Title </th>\n",
    "                <th> Tools Used </th>\n",
    "            </tr>\n",
    "            <tr>\n",
    "                <td> Job market analysis with Pandas and Beautifulsoup </td>\n",
    "                <td> Pandas, Python, Beautisoup, Selenium</td>\n",
    "            </tr>\n",
    "            <tr>\n",
    "                <td> Customer churn analysis with predictive modeling </td>\n",
    "                <td> Python, Scikit-learn, Machine Learning, Classification</td>\n",
    "            </tr>\n",
    "            <tr>\n",
    "                <td> Sentiment classification with deep learning </td>\n",
    "                <td> Python, NLTK, PyTorch</td>\n",
    "            </tr>\n",
    "        </table>\n",
    "    </body>\n",
    "</html>"
   ]
  },
  {
   "cell_type": "markdown",
   "metadata": {
    "id": "3PKLh5TYahxn"
   },
   "source": [
    "### Adding Blocks"
   ]
  },
  {
   "cell_type": "code",
   "execution_count": null,
   "metadata": {
    "id": "WmC7SXsaahxn",
    "outputId": "a903e8d4-9fe7-4a03-8af2-cd74a82d8a95"
   },
   "outputs": [
    {
     "data": {
      "text/html": [
       "\n",
       "<html>\n",
       "    <head>\n",
       "        <title> Portfolio </title>\n",
       "    </head>\n",
       "    <style>\n",
       "        #mytitle {\n",
       "            font-size: 60;\n",
       "            color: purple;\n",
       "        }\n",
       "        .imgclass {\n",
       "            display: block;\n",
       "            margin-left: auto;\n",
       "            margin-right: auto;\n",
       "        }\n",
       "        table, th, td {\n",
       "            border: 2px solid black;\n",
       "            border-collapse: collapse;\n",
       "        }\n",
       "        .column1 {\n",
       "            float: left;\n",
       "            width: 40%;\n",
       "            padding: 10px;\n",
       "            height: 300px;\n",
       "        }\n",
       "        .column2 {\n",
       "            float: right;\n",
       "            width: 40%;\n",
       "            padding: 10px;\n",
       "            height: 300px;\n",
       "        }\n",
       "        .row:after {\n",
       "        content: \"\";\n",
       "        display: table;\n",
       "        clear: both;\n",
       "        }\n",
       "    </style>\n",
       "    <body>\n",
       "        <h1 id='mytitle' align='center'> My Data Engineering Portfolio </h1>\n",
       "        <h2 align='center'> by WeCloudData Academy </h2>\n",
       "        <img class='imgclass' style=\"text-align: center;\" src=\"https://www.weclouddata.com/wp-content/uploads/2021/01/WCD-Logo.svg\" width='10%' ></a>\n",
       "\n",
       "        <div class='row'>\n",
       "            <div class='column1'>\n",
       "                <p> This web page contains the data engineering projects I worked during my learning journey. </p>\n",
       "                <p> In the past 6 months, I have completed 3 data engineering projects, covering sql, python, machine learning, and big data. </p>\n",
       "                <ul>\n",
       "                    <li> Job market analysis with Pandas and Beautifulsoup <a href='https://www.google.com'> (link) </a></li>\n",
       "                    <li> Customer churn analysis with predictive modeling <a href='https://facebook.com'> (link) </a></li>\n",
       "                    <li> Sentiment classification with deep learning <a href='https://twitter.com'> (link) </a></li>\n",
       "                    <li> Big data analysis with spark and AWS <a href='https://www.tiktok.com'> (link) </a></li>\n",
       "                </ul>\n",
       "\n",
       "                <table>\n",
       "                    <tr>\n",
       "                        <th> Project Title </th>\n",
       "                        <th> Tools Used </th>\n",
       "                    </tr>\n",
       "                    <tr>\n",
       "                        <td> Job market analysis with Pandas and Beautifulsoup </td>\n",
       "                        <td> Pandas, Python, Beautisoup, Selenium</td>\n",
       "                    </tr>\n",
       "                    <tr>\n",
       "                        <td> Customer churn analysis with predictive modeling </td>\n",
       "                        <td> Python, Scikit-learn, Machine Learning, Classification</td>\n",
       "                    </tr>\n",
       "                    <tr>\n",
       "                        <td> Sentiment classification with deep learning </td>\n",
       "                        <td> Python, NLTK, PyTorch</td>\n",
       "                    </tr>\n",
       "                </table>\n",
       "            </div>\n",
       "\n",
       "            <div class='column2'>\n",
       "                <img class='imgclass' src='https://weclouddata.s3.amazonaws.com/images/random/marvel_spiderman.JPG' width='70%'>\n",
       "            </div>\n",
       "        </div>\n",
       "    </body>\n",
       "</html>\n"
      ],
      "text/plain": [
       "<IPython.core.display.HTML object>"
      ]
     },
     "metadata": {},
     "output_type": "display_data"
    }
   ],
   "source": [
    "%%html\n",
    "\n",
    "<html>\n",
    "    <head>\n",
    "        <title> Portfolio </title>\n",
    "    </head>\n",
    "    <style>\n",
    "        #mytitle {\n",
    "            font-size: 60;\n",
    "            color: purple;\n",
    "        }\n",
    "        .imgclass {\n",
    "            display: block;\n",
    "            margin-left: auto;\n",
    "            margin-right: auto;\n",
    "        }\n",
    "        table, th, td {\n",
    "            border: 2px solid black;\n",
    "            border-collapse: collapse;\n",
    "        }\n",
    "        .column1 {\n",
    "            float: left;\n",
    "            width: 40%;\n",
    "            padding: 10px;\n",
    "            height: 300px;\n",
    "        }\n",
    "        .column2 {\n",
    "            float: right;\n",
    "            width: 40%;\n",
    "            padding: 10px;\n",
    "            height: 300px;\n",
    "        }\n",
    "        .row:after {\n",
    "        content: \"\";\n",
    "        display: table;\n",
    "        clear: both;\n",
    "        }\n",
    "    </style>\n",
    "    <body>\n",
    "        <h1 id='mytitle' align='center'> My Data Engineering Portfolio </h1>\n",
    "        <h2 align='center'> by WeCloudData Academy </h2>\n",
    "        <img class='imgclass' style=\"text-align: center;\" src=\"https://www.weclouddata.com/wp-content/uploads/2021/01/WCD-Logo.svg\" width='10%' ></a>\n",
    "\n",
    "        <div class='row'>\n",
    "            <div class='column1'>\n",
    "                <p> This web page contains the data engineering projects I worked during my learning journey. </p>\n",
    "                <p> In the past 6 months, I have completed 3 data engineering projects, covering sql, python, machine learning, and big data. </p>\n",
    "                <ul>\n",
    "                    <li> Job market analysis with Pandas and Beautifulsoup <a href='https://www.google.com'> (link) </a></li>\n",
    "                    <li> Customer churn analysis with predictive modeling <a href='https://facebook.com'> (link) </a></li>\n",
    "                    <li> Sentiment classification with deep learning <a href='https://twitter.com'> (link) </a></li>\n",
    "                    <li> Big data analysis with spark and AWS <a href='https://www.tiktok.com'> (link) </a></li>\n",
    "                </ul>\n",
    "\n",
    "                <table>\n",
    "                    <tr>\n",
    "                        <th> Project Title </th>\n",
    "                        <th> Tools Used </th>\n",
    "                    </tr>\n",
    "                    <tr>\n",
    "                        <td> Job market analysis with Pandas and Beautifulsoup </td>\n",
    "                        <td> Pandas, Python, Beautisoup, Selenium</td>\n",
    "                    </tr>\n",
    "                    <tr>\n",
    "                        <td> Customer churn analysis with predictive modeling </td>\n",
    "                        <td> Python, Scikit-learn, Machine Learning, Classification</td>\n",
    "                    </tr>\n",
    "                    <tr>\n",
    "                        <td> Sentiment classification with deep learning </td>\n",
    "                        <td> Python, NLTK, PyTorch</td>\n",
    "                    </tr>\n",
    "                </table>\n",
    "            </div>\n",
    "\n",
    "            <div class='column2'>\n",
    "                <img class='imgclass' src='https://weclouddata.s3.amazonaws.com/images/random/marvel_spiderman.JPG' width='70%'>\n",
    "            </div>\n",
    "        </div>\n",
    "    </body>\n",
    "</html>"
   ]
  },
  {
   "cell_type": "markdown",
   "metadata": {
    "id": "2tYE1T3Mahxo"
   },
   "source": [
    "### Export HTML File"
   ]
  },
  {
   "cell_type": "code",
   "execution_count": null,
   "metadata": {
    "id": "DYZWn3KFahxo",
    "outputId": "90a0a668-e686-4a5d-8dca-207699caf8d3"
   },
   "outputs": [
    {
     "name": "stdout",
     "output_type": "stream",
     "text": [
      "Overwriting portfolio_de.html\n"
     ]
    }
   ],
   "source": [
    "%%file portfolio_de.html\n",
    "\n",
    "<html>\n",
    "    <head>\n",
    "        <title> Portfolio </title>\n",
    "    </head>\n",
    "    <style>\n",
    "        #mytitle {\n",
    "            font-size: 60;\n",
    "            color: purple;\n",
    "        }\n",
    "        .imgclass {\n",
    "            display: block;\n",
    "            margin-left: auto;\n",
    "            margin-right: auto;\n",
    "        }\n",
    "        table, th, td {\n",
    "            border: 2px solid black;\n",
    "            border-collapse: collapse;\n",
    "        }\n",
    "        .column1 {\n",
    "            float: left;\n",
    "            width: 40%;\n",
    "            padding: 10px;\n",
    "            height: 300px;\n",
    "        }\n",
    "        .column2 {\n",
    "            float: right;\n",
    "            width: 40%;\n",
    "            padding: 10px;\n",
    "            height: 100px;\n",
    "        }\n",
    "        .row:after {\n",
    "        content: \"\";\n",
    "        display: table;\n",
    "        clear: both;\n",
    "        }\n",
    "    </style>\n",
    "    <body>\n",
    "        <h1 id='mytitle' align='center'> My Data Engineering Portfolio </h1>\n",
    "        <h2 align='center'> by WeCloudData Academy </h2>\n",
    "        <img class='imgclass' style=\"text-align: center;\" src=\"https://www.weclouddata.com/wp-content/uploads/2021/01/WCD-Logo.svg\" width='10%' ></a>\n",
    "\n",
    "        <div class='row'>\n",
    "            <div class='column1'>\n",
    "                <p> This web page contains the data engineering projects I worked during my learning journey. </p>\n",
    "                <p> In the past 6 months, I have completed 3 data engineering projects, covering sql, python, machine learning, and big data. </p>\n",
    "                <ul>\n",
    "                    <li> Job market analysis with Pandas and Beautifulsoup <a href='https://www.google.com'> (link) </a></li>\n",
    "                    <li> Customer churn analysis with predictive modeling <a href='https://facebook.com'> (link) </a></li>\n",
    "                    <li> Sentiment classification with deep learning <a href='https://twitter.com'> (link) </a></li>\n",
    "                    <li> Big data analysis with spark and AWS <a href='https://www.tiktok.com'> (link) </a></li>\n",
    "                </ul>\n",
    "\n",
    "                <table>\n",
    "                    <tr>\n",
    "                        <th> Project Title </th>\n",
    "                        <th> Tools Used </th>\n",
    "                    </tr>\n",
    "                    <tr>\n",
    "                        <td> Job market analysis with Pandas and Beautifulsoup </td>\n",
    "                        <td> Pandas, Python, Beautisoup, Selenium</td>\n",
    "                    </tr>\n",
    "                    <tr>\n",
    "                        <td> Customer churn analysis with predictive modeling </td>\n",
    "                        <td> Python, Scikit-learn, Machine Learning, Classification</td>\n",
    "                    </tr>\n",
    "                    <tr>\n",
    "                        <td> Sentiment classification with deep learning </td>\n",
    "                        <td> Python, NLTK, PyTorch</td>\n",
    "                    </tr>\n",
    "                </table>\n",
    "            </div>\n",
    "\n",
    "            <div class='column2'>\n",
    "                <img class='imgclass' src='https://weclouddata.s3.amazonaws.com/images/random/marvel_spiderman.JPG' width='70%'>\n",
    "            </div>\n",
    "        </div>\n",
    "    </body>\n",
    "</html>"
   ]
  },
  {
   "cell_type": "markdown",
   "metadata": {
    "id": "mSGNsdmcahxp"
   },
   "source": [
    "### Now, open the html file in your browser\n",
    "\n",
    "> - Open `portfolio_de.html` in your browser\n",
    "> - Right-click and selelct `inspect`\n",
    "> - You should expect to inspect the HTML source code in the inspection tool.\n",
    "\n",
    "\n",
    "<img src='https://weclouddata.s3.amazonaws.com/images/data_engineer/portfolio_de_inspect.png'>"
   ]
  },
  {
   "cell_type": "markdown",
   "metadata": {
    "id": "g380fWQcahxp"
   },
   "source": [
    "---\n",
    "<br>"
   ]
  },
  {
   "cell_type": "markdown",
   "metadata": {
    "id": "RldGRYo3ahxp"
   },
   "source": [
    "# 2. Beautifulsoup 101\n",
    "\n",
    "Below is a simple bs4 workflow. If you want to scrape a website with multiple pages, you will need to identify the URL patterns. For websites with pagination, you can usually change the start position in the url. Some website will be tricky to scrape and you will need packages such as scrapy. For websites that have anti-scraping capabilities, you can leverage proxies tools. Many of them are paid software and APIs.\n",
    "\n",
    "1. Find the URL you want to scrape.\n",
    "2. Inspect the HTML page structure\n",
    "3. Download the page using python `requests`\n",
    "4. Parse the page using `BS4`\n"
   ]
  },
  {
   "cell_type": "code",
   "execution_count": null,
   "metadata": {
    "id": "drGCrImRuWSN",
    "outputId": "8215ac7d-3f59-4c1c-9f9d-6db11430c07b"
   },
   "outputs": [
    {
     "name": "stdout",
     "output_type": "stream",
     "text": [
      "Defaulting to user installation because normal site-packages is not writeable\n",
      "Requirement already satisfied: bs4 in /home/klailatimad/.local/lib/python3.10/site-packages (0.0.1)\n",
      "Requirement already satisfied: beautifulsoup4 in /home/klailatimad/.local/lib/python3.10/site-packages (from bs4) (4.12.2)\n",
      "Requirement already satisfied: soupsieve>1.2 in /home/klailatimad/.local/lib/python3.10/site-packages (from beautifulsoup4->bs4) (2.5)\n",
      "Note: you may need to restart the kernel to use updated packages.\n"
     ]
    }
   ],
   "source": [
    "%pip install bs4"
   ]
  },
  {
   "cell_type": "code",
   "execution_count": null,
   "metadata": {
    "id": "MMabbKxDahxq"
   },
   "outputs": [],
   "source": [
    "import requests\n",
    "from bs4 import BeautifulSoup"
   ]
  },
  {
   "cell_type": "markdown",
   "metadata": {
    "id": "vHHY-iV8ahxq"
   },
   "source": [
    "### Download a web page\n",
    "\n",
    "> Python's `requests` library allows us to download a file from the web."
   ]
  },
  {
   "cell_type": "code",
   "execution_count": null,
   "metadata": {
    "id": "sgVS-yFVahxq",
    "outputId": "d9f85e44-22a7-4618-f449-8e8663978bb2"
   },
   "outputs": [
    {
     "name": "stdout",
     "output_type": "stream",
     "text": [
      "<class 'requests.models.Response'>\n"
     ]
    }
   ],
   "source": [
    "# This is the same html file we created previously.\n",
    "# We've uploaded this html file to Amazon Web Services so it's hosted as a web file.\n",
    "\n",
    "url = 'https://s3.amazonaws.com/weclouddata/data/data/portfolio_de.html'\n",
    "html = requests.get(url)\n",
    "\n",
    "print(type(html)) # note that html object has a `Response` type"
   ]
  },
  {
   "cell_type": "markdown",
   "metadata": {
    "id": "XrKXS-GIahxq"
   },
   "source": [
    "### Get the content of the respnose\n",
    "\n",
    "> `response.content`"
   ]
  },
  {
   "cell_type": "code",
   "execution_count": null,
   "metadata": {
    "id": "TQGr5SBPahxr",
    "outputId": "0bfe154b-bf4d-4453-9b12-badd678a72e0"
   },
   "outputs": [
    {
     "data": {
      "text/plain": [
       "bytes"
      ]
     },
     "execution_count": 64,
     "metadata": {},
     "output_type": "execute_result"
    }
   ],
   "source": [
    "type(html.content) # note that html.content are of bytes data type"
   ]
  },
  {
   "cell_type": "markdown",
   "metadata": {
    "id": "0yHzejtvahx0"
   },
   "source": [
    "> We can assign the entire html structure as a string (using `'''`) to a python variable and then parse it using bs4 (beautifulsoup 4)"
   ]
  },
  {
   "cell_type": "code",
   "execution_count": null,
   "metadata": {
    "id": "jxM12Q1Zahx0"
   },
   "outputs": [],
   "source": [
    "html_str = '''\n",
    "<html>\n",
    "    <head>\n",
    "        <title> Portfolio </title>\n",
    "    </head>\n",
    "    <style>\n",
    "        #mytitle {\n",
    "            font-size: 60;\n",
    "            color: purple;\n",
    "        }\n",
    "        .imgclass {\n",
    "            display: block;\n",
    "            margin-left: auto;\n",
    "            margin-right: auto;\n",
    "        }\n",
    "        table, th, td {\n",
    "            border: 2px solid black;\n",
    "            border-collapse: collapse;\n",
    "        }\n",
    "        .column {\n",
    "            float: left;\n",
    "            width: 40%;\n",
    "            padding: 10px;\n",
    "            height: 300px;\n",
    "        }\n",
    "        .row:after {\n",
    "        content: \"\";\n",
    "        display: table;\n",
    "        clear: both;\n",
    "        }\n",
    "    </style>\n",
    "    <body>\n",
    "        <h1 id='mytitle' align='center'> My Data Engineering Portfolio </h1>\n",
    "        <h2 align='center'> by WeCloudData Academy </h2>\n",
    "        <img class='imgclass' style=\"text-align: center;\" src=\"https://www.weclouddata.com/wp-content/uploads/2021/01/WCD-Logo.svg\" width='10%' ></a>\n",
    "\n",
    "        <div class='row'>\n",
    "            <div class='column1'>\n",
    "                <p> This web page contains the data engineering projects I worked during my learning journey. </p>\n",
    "                <p> In the past 6 months, I have completed 3 data engineering projects, covering sql, python, machine learning, and big data. </p>\n",
    "                <ul>\n",
    "                    <li> Job market analysis with Pandas and Beautifulsoup <a href='https://www.google.com'> (link) </a></li>\n",
    "                    <li> Customer churn analysis with predictive modeling <a href='https://facebook.com'> (link) </a></li>\n",
    "                    <li> Sentiment classification with deep learning <a href='https://twitter.com'> (link) </a></li>\n",
    "                    <li> Big data analysis with spark and AWS <a href='https://www.tiktok.com'> (link) </a></li>\n",
    "                </ul>\n",
    "\n",
    "                <table>\n",
    "                    <tr>\n",
    "                        <th> Project Title </th>\n",
    "                        <th> Tools Used </th>\n",
    "                    </tr>\n",
    "                    <tr>\n",
    "                        <td> Job market analysis with Pandas and Beautifulsoup </td>\n",
    "                        <td> Pandas, Python, Beautisoup, Selenium</td>\n",
    "                    </tr>\n",
    "                    <tr>\n",
    "                        <td> Customer churn analysis with predictive modeling </td>\n",
    "                        <td> Python, Scikit-learn, Machine Learning, Classification</td>\n",
    "                    </tr>\n",
    "                    <tr>\n",
    "                        <td> Sentiment classification with deep learning </td>\n",
    "                        <td> Python, NLTK, PyTorch</td>\n",
    "                    </tr>\n",
    "                </table>\n",
    "            </div>\n",
    "\n",
    "            <div class='column2'>\n",
    "                <img class='imgclass' src='https://weclouddata.s3.amazonaws.com/images/random/marvel_spiderman.JPG' width='70%'>\n",
    "            </div>\n",
    "        </div>\n",
    "    </body>\n",
    "</html>\n",
    "\n",
    "'''"
   ]
  },
  {
   "cell_type": "markdown",
   "metadata": {
    "id": "be2rvJbsahx0"
   },
   "source": [
    "## 2.1 - Working with the default parser"
   ]
  },
  {
   "cell_type": "markdown",
   "metadata": {
    "id": "QmmJ314Yahx1"
   },
   "source": [
    "### Parse the page\n",
    "\n",
    "> - Create the beautifulsoup object\n",
    "> - Pase the html content using the default `html.parser`"
   ]
  },
  {
   "cell_type": "code",
   "execution_count": null,
   "metadata": {
    "id": "BZiGpKdmahx1"
   },
   "outputs": [],
   "source": [
    "soup = BeautifulSoup(html.content, \"html.parser\")"
   ]
  },
  {
   "cell_type": "markdown",
   "metadata": {
    "id": "m4Ig4U30ahx1"
   },
   "source": [
    "> `soup` is now a BeautifulSoup object. It has the necessary methods/functions that allow us to manipulate the HTML structure\n"
   ]
  },
  {
   "cell_type": "code",
   "execution_count": null,
   "metadata": {
    "id": "AHUeWM5dahx1",
    "outputId": "c028de8a-1429-48a5-8912-754651fd67f9"
   },
   "outputs": [
    {
     "name": "stdout",
     "output_type": "stream",
     "text": [
      "<class 'bs4.BeautifulSoup'>\n"
     ]
    }
   ],
   "source": [
    "print(type(soup))"
   ]
  },
  {
   "cell_type": "markdown",
   "metadata": {
    "id": "ertbli4jahx1"
   },
   "source": [
    "### Find elements by tag name\n",
    "\n",
    "> Work with `element.find_all`"
   ]
  },
  {
   "cell_type": "code",
   "execution_count": null,
   "metadata": {
    "id": "yqyXemVXahx2",
    "outputId": "d6a17da1-6264-4c54-a4d5-d954f55c2c81"
   },
   "outputs": [
    {
     "data": {
      "text/plain": [
       "[<li> Job market analysis with Pandas and Beautifulsoup <a href=\"https://www.google.com\"> (link) </a></li>,\n",
       " <li> Customer churn analysis with predictive modeling <a href=\"https://facebook.com\"> (link) </a></li>,\n",
       " <li> Sentiment classification with deep learning <a href=\"https://twitter.com\"> (link) </a></li>,\n",
       " <li> Big data analysis with spark and AWS <a href=\"https://www.tiktok.com\"> (link) </a></li>]"
      ]
     },
     "execution_count": 68,
     "metadata": {},
     "output_type": "execute_result"
    }
   ],
   "source": [
    "# find all `li` elements\n",
    "\n",
    "soup.find_all(\"li\")"
   ]
  },
  {
   "cell_type": "markdown",
   "metadata": {
    "id": "Wmp3ne0Lahx2"
   },
   "source": [
    "> Find all URLs in the `<li>` tag"
   ]
  },
  {
   "cell_type": "code",
   "execution_count": null,
   "metadata": {
    "id": "VkpzDLRtahx2",
    "outputId": "baf98283-6ded-49b2-80cd-063a3d666afd"
   },
   "outputs": [
    {
     "name": "stdout",
     "output_type": "stream",
     "text": [
      "<class 'bs4.element.Tag'>\n",
      "<class 'bs4.element.Tag'>\n",
      "<class 'bs4.element.Tag'>\n",
      "<class 'bs4.element.Tag'>\n"
     ]
    }
   ],
   "source": [
    "# print element types\n",
    "for li in soup.find_all(\"li\"):\n",
    "    print(type(li))"
   ]
  },
  {
   "cell_type": "code",
   "execution_count": null,
   "metadata": {
    "id": "PYNvThBAahx3",
    "outputId": "bcd0d7fa-7299-4cc2-ff0d-a9e694735def"
   },
   "outputs": [
    {
     "name": "stdout",
     "output_type": "stream",
     "text": [
      "https://www.google.com\n",
      "https://facebook.com\n",
      "https://twitter.com\n",
      "https://www.tiktok.com\n"
     ]
    }
   ],
   "source": [
    "# get all URLs\n",
    "for li in soup.find_all(\"li\"):\n",
    "    a = li.find(\"a\")\n",
    "    print(a.attrs['href'])"
   ]
  },
  {
   "cell_type": "markdown",
   "metadata": {
    "id": "430N6F-aahx4"
   },
   "source": [
    "### Find elements by filtering on attribute values\n"
   ]
  },
  {
   "cell_type": "markdown",
   "metadata": {
    "id": "1RUdXeyYahx4"
   },
   "source": [
    "> Find all elements using `find_all` and filtering on class attribute values using regex"
   ]
  },
  {
   "cell_type": "code",
   "execution_count": null,
   "metadata": {
    "id": "kvrex1--ahx5"
   },
   "outputs": [],
   "source": [
    "# find all div blocks with class attribute matching the column* pattern\n",
    "\n",
    "import re\n",
    "divs = soup.find_all('div', {'class': re.compile('column.*')})"
   ]
  },
  {
   "cell_type": "code",
   "execution_count": null,
   "metadata": {
    "id": "9WVeUI4cahx5",
    "outputId": "770d99c4-6728-43d1-e94c-c506fca2839a"
   },
   "outputs": [
    {
     "name": "stdout",
     "output_type": "stream",
     "text": [
      "\n",
      " This web page contains the data engineering projects I worked during my learning journey. \n",
      " In the past 6 months, I have completed 3 data engineering projects, covering sql, python, machine learning, and big data. \n",
      "\n",
      " Job market analysis with Pandas and Beautifulsoup  (link) \n",
      " Customer churn analysis with predictive modeling  (link) \n",
      " Sentiment classification with deep learning  (link) \n",
      " Big data analysis with spark and AWS  (link) \n",
      "\n",
      "\n",
      "\n",
      " Project Title \n",
      " Tools Used \n",
      "\n",
      "\n",
      " Job market analysis with Pandas and Beautifulsoup \n",
      " Pandas, Python, Beautisoup, Selenium\n",
      "\n",
      "\n",
      " Customer churn analysis with predictive modeling \n",
      " Python, Scikit-learn, Machine Learning, Classification\n",
      "\n",
      "\n",
      " Sentiment classification with deep learning \n",
      " Python, NLTK, PyTorch\n",
      "\n",
      "\n",
      "\n",
      "\n",
      "\n",
      "\n"
     ]
    }
   ],
   "source": [
    "for div in divs:\n",
    "    print(div.text)"
   ]
  },
  {
   "cell_type": "markdown",
   "metadata": {
    "id": "nT_fL_pAahx5"
   },
   "source": [
    "### Find elements based on attributes\n"
   ]
  },
  {
   "cell_type": "code",
   "execution_count": null,
   "metadata": {
    "id": "ON3qhOopahx6",
    "outputId": "9474dd1b-b9c7-488c-96e3-d907d704a688"
   },
   "outputs": [
    {
     "data": {
      "text/plain": [
       "[<h1 align=\"center\" id=\"mytitle\"> My Data Engineering Portfolio </h1>,\n",
       " <h2 align=\"center\"> by WeCloudData Academy </h2>]"
      ]
     },
     "execution_count": 73,
     "metadata": {},
     "output_type": "execute_result"
    }
   ],
   "source": [
    "soup.find_all(attrs={'align': 'center'})"
   ]
  },
  {
   "cell_type": "code",
   "execution_count": null,
   "metadata": {
    "id": "M0avhCiMahx6",
    "outputId": "b7ebbc3e-c4b4-4a6e-be0a-fbcd8a889827"
   },
   "outputs": [
    {
     "data": {
      "text/plain": [
       "[<img class=\"imgclass\" src=\"https://www.weclouddata.com/wp-content/uploads/2021/01/WCD-Logo.svg\" style=\"text-align: center;\" width=\"10%\"/>,\n",
       " <img class=\"imgclass\" src=\"https://weclouddata.s3.amazonaws.com/images/random/marvel_spiderman.JPG\" width=\"70%\"/>]"
      ]
     },
     "execution_count": 74,
     "metadata": {},
     "output_type": "execute_result"
    }
   ],
   "source": [
    "soup.find_all(attrs={'class': 'imgclass'})"
   ]
  },
  {
   "cell_type": "markdown",
   "metadata": {
    "id": "78LXqMLLahx6"
   },
   "source": [
    "## 2.1 - Working with xpath\n",
    "\n",
    "### Parsing DOM with `lxml`\n",
    "\n",
    ">  `pip install lxml`"
   ]
  },
  {
   "cell_type": "code",
   "execution_count": null,
   "metadata": {
    "id": "4eakdv50uWSX",
    "outputId": "5a77bf07-7974-4043-dc77-d35880e3590a"
   },
   "outputs": [
    {
     "name": "stdout",
     "output_type": "stream",
     "text": [
      "Defaulting to user installation because normal site-packages is not writeable\n",
      "Requirement already satisfied: lxml in /home/klailatimad/.local/lib/python3.10/site-packages (5.1.0)\n",
      "Note: you may need to restart the kernel to use updated packages.\n"
     ]
    }
   ],
   "source": [
    "%pip install lxml"
   ]
  },
  {
   "cell_type": "code",
   "execution_count": null,
   "metadata": {
    "id": "_LoHAyFpahx7"
   },
   "outputs": [],
   "source": [
    "from lxml import etree\n",
    "import requests"
   ]
  },
  {
   "cell_type": "markdown",
   "metadata": {
    "id": "Z4HgKf5lahx7"
   },
   "source": [
    "### Turn your soup object into an lxml dom object"
   ]
  },
  {
   "cell_type": "code",
   "execution_count": null,
   "metadata": {
    "id": "pP0LOuuDahx7"
   },
   "outputs": [],
   "source": [
    "dom = etree.HTML(str(soup))"
   ]
  },
  {
   "cell_type": "markdown",
   "metadata": {
    "id": "Sk6B4sAzahx7"
   },
   "source": [
    "### Working with `xpath`\n",
    "\n",
    "\n",
    "> - `nodename`\tSelect all nodes with the name “nodename”\n",
    "> - `/`\tA beginning single slash indicates a select from the root node, subsequent slashes indicate selecting a child node from current node\n",
    "> - `//`\tSelect direct and indirect child nodes in the document from the current node - this gives us the ability to “skip levels”\n",
    "> - `.`\tSelect the current context node\n",
    "> - `..`\tSelect the parent of the context node\n",
    "> - `@`\tSelect attributes of the context node\n",
    "> - `[@attribute = 'value']`\tSelect nodes with a particular attribute value\n",
    "> - `text()`\tSelect the text content of a node"
   ]
  },
  {
   "cell_type": "markdown",
   "metadata": {
    "id": "yPzrVx7yahx8"
   },
   "source": [
    "**Get the `table` element by xpath**\n",
    "\n",
    "<img src='https://weclouddata.s3.amazonaws.com/images/data_engineer/portfolio_de_xpath_example.png' width='70%'>\n",
    "\n"
   ]
  },
  {
   "cell_type": "code",
   "execution_count": null,
   "metadata": {
    "id": "8K151_7Rahx8"
   },
   "outputs": [],
   "source": [
    "# get the table element (xpath copied from chrome inspection)\n",
    "tbl = dom.xpath('/html/body/div/div[1]/table')[0]"
   ]
  },
  {
   "cell_type": "code",
   "execution_count": null,
   "metadata": {
    "id": "kyA8drVzahx9",
    "outputId": "ff195708-49de-4473-b3a9-a34f601f6ae4"
   },
   "outputs": [
    {
     "data": {
      "text/plain": [
       "[<Element tr at 0x7f57d99ef900>,\n",
       " <Element tr at 0x7f57d92e3940>,\n",
       " <Element tr at 0x7f57d92e1700>,\n",
       " <Element tr at 0x7f57d9a07b40>]"
      ]
     },
     "execution_count": 79,
     "metadata": {},
     "output_type": "execute_result"
    }
   ],
   "source": [
    "# get rows of a table == finding the children\n",
    "\n",
    "tbl.getchildren()"
   ]
  },
  {
   "cell_type": "code",
   "execution_count": null,
   "metadata": {
    "id": "rviA6Yf7ahx9",
    "outputId": "0823c65c-6f14-4922-cee7-b6628b00c9ab"
   },
   "outputs": [
    {
     "name": "stdout",
     "output_type": "stream",
     "text": [
      "<Element table at 0x7f57d9a78400>\n",
      "<Element tr at 0x7f57d99ef900>\n",
      "<Element th at 0x7f57d92e3500>\n",
      "<Element th at 0x7f57d92e2f00>\n",
      "<Element tr at 0x7f57d92e3940>\n",
      "<Element td at 0x7f57d92e3500>\n",
      "<Element td at 0x7f57d9a11940>\n",
      "<Element tr at 0x7f57d92e1700>\n",
      "<Element td at 0x7f57d92e3500>\n",
      "<Element td at 0x7f57d9a11940>\n",
      "<Element tr at 0x7f57d9a07b40>\n",
      "<Element td at 0x7f57d92e3500>\n",
      "<Element td at 0x7f57d9a11940>\n"
     ]
    }
   ],
   "source": [
    "# iterate through the table\n",
    "\n",
    "for e in tbl.getiterator():\n",
    "    print(e)"
   ]
  },
  {
   "cell_type": "code",
   "execution_count": null,
   "metadata": {
    "id": "c1pOKkUWahx9",
    "outputId": "9288c6b1-06dc-4e5c-d09e-e03d253a0446"
   },
   "outputs": [
    {
     "data": {
      "text/plain": [
       "[<Element tr at 0x7f57d99ef900>,\n",
       " <Element tr at 0x7f57d92e3940>,\n",
       " <Element tr at 0x7f57d92e1700>,\n",
       " <Element tr at 0x7f57d9a07b40>]"
      ]
     },
     "execution_count": 81,
     "metadata": {},
     "output_type": "execute_result"
    }
   ],
   "source": [
    "# Find all rows using the `findall` method\n",
    "\n",
    "tbl.findall('tr')"
   ]
  },
  {
   "cell_type": "code",
   "execution_count": null,
   "metadata": {
    "id": "orXvvAwcahx-",
    "outputId": "a715d66d-1076-48f1-ed45-c74d21fadfa6"
   },
   "outputs": [
    {
     "data": {
      "text/plain": [
       "['__bool__',\n",
       " '__class__',\n",
       " '__contains__',\n",
       " '__copy__',\n",
       " '__deepcopy__',\n",
       " '__delattr__',\n",
       " '__delitem__',\n",
       " '__dir__',\n",
       " '__doc__',\n",
       " '__eq__',\n",
       " '__format__',\n",
       " '__ge__',\n",
       " '__getattribute__',\n",
       " '__getitem__',\n",
       " '__gt__',\n",
       " '__hash__',\n",
       " '__init__',\n",
       " '__init_subclass__',\n",
       " '__iter__',\n",
       " '__le__',\n",
       " '__len__',\n",
       " '__lt__',\n",
       " '__ne__',\n",
       " '__new__',\n",
       " '__reduce__',\n",
       " '__reduce_ex__',\n",
       " '__repr__',\n",
       " '__reversed__',\n",
       " '__setattr__',\n",
       " '__setitem__',\n",
       " '__sizeof__',\n",
       " '__str__',\n",
       " '__subclasshook__',\n",
       " '_init',\n",
       " 'addnext',\n",
       " 'addprevious',\n",
       " 'append',\n",
       " 'attrib',\n",
       " 'base',\n",
       " 'clear',\n",
       " 'cssselect',\n",
       " 'extend',\n",
       " 'find',\n",
       " 'findall',\n",
       " 'findtext',\n",
       " 'get',\n",
       " 'getchildren',\n",
       " 'getiterator',\n",
       " 'getnext',\n",
       " 'getparent',\n",
       " 'getprevious',\n",
       " 'getroottree',\n",
       " 'index',\n",
       " 'insert',\n",
       " 'items',\n",
       " 'iter',\n",
       " 'iterancestors',\n",
       " 'iterchildren',\n",
       " 'iterdescendants',\n",
       " 'iterfind',\n",
       " 'itersiblings',\n",
       " 'itertext',\n",
       " 'keys',\n",
       " 'makeelement',\n",
       " 'nsmap',\n",
       " 'prefix',\n",
       " 'remove',\n",
       " 'replace',\n",
       " 'set',\n",
       " 'sourceline',\n",
       " 'tag',\n",
       " 'tail',\n",
       " 'text',\n",
       " 'values',\n",
       " 'xpath']"
      ]
     },
     "execution_count": 82,
     "metadata": {},
     "output_type": "execute_result"
    }
   ],
   "source": [
    "# Use dir() if you want to know methods associated with an object\n",
    "\n",
    "dir(tbl)"
   ]
  },
  {
   "cell_type": "markdown",
   "metadata": {
    "id": "o55Ej16Yahx-"
   },
   "source": [
    "###"
   ]
  },
  {
   "cell_type": "code",
   "execution_count": null,
   "metadata": {
    "id": "AFvQ2fZMahx-",
    "outputId": "4aa0e849-2d51-4860-948a-a77d1a152ee4"
   },
   "outputs": [
    {
     "data": {
      "text/plain": [
       "' Portfolio '"
      ]
     },
     "execution_count": 83,
     "metadata": {},
     "output_type": "execute_result"
    }
   ],
   "source": [
    "# get childrens of an element\n",
    "\n",
    "dom.xpath('head')[0].getchildren()[0].text"
   ]
  },
  {
   "cell_type": "code",
   "execution_count": null,
   "metadata": {
    "id": "wxomYmHqahx-",
    "outputId": "3bdc7cc1-268a-44fc-b453-c743f8f9f08f"
   },
   "outputs": [
    {
     "data": {
      "text/plain": [
       "' Portfolio '"
      ]
     },
     "execution_count": 84,
     "metadata": {},
     "output_type": "execute_result"
    }
   ],
   "source": [
    "dom.xpath('head/title')[0].text"
   ]
  },
  {
   "cell_type": "markdown",
   "metadata": {
    "id": "OLRuJz7-ahx_"
   },
   "source": [
    "Use the `//` syntax to select for elements regardless of where they are in the tree.\n"
   ]
  },
  {
   "cell_type": "code",
   "execution_count": null,
   "metadata": {
    "id": "NXZROz5Gahx_",
    "outputId": "1e453775-b5ed-4be0-8480-af126a1a7eef"
   },
   "outputs": [
    {
     "data": {
      "text/plain": [
       "True"
      ]
     },
     "execution_count": 85,
     "metadata": {},
     "output_type": "execute_result"
    }
   ],
   "source": [
    "# Check if an element exist, returns True/False\n",
    "\n",
    "dom.xpath('//div/@class=\"row\"')\n"
   ]
  },
  {
   "cell_type": "code",
   "execution_count": null,
   "metadata": {
    "id": "fAQJqHgTahx_",
    "outputId": "70def8f9-a807-46a7-b391-63ec756ec823"
   },
   "outputs": [
    {
     "data": {
      "text/plain": [
       "[<Element div at 0x7f57e9a37980>]"
      ]
     },
     "execution_count": 86,
     "metadata": {},
     "output_type": "execute_result"
    }
   ],
   "source": [
    "# Get all `div` block with class equal to row\n",
    "\n",
    "dom.xpath('//div[@class=\"row\"]')"
   ]
  },
  {
   "cell_type": "markdown",
   "metadata": {
    "id": "13ujqNV5ahx_"
   },
   "source": [
    "### Xpath Wildcard\n",
    "\n",
    "> `*`\tMatches any element node  \n",
    "> `@*`\tMatches any attribute node  \n",
    "> `node()`\tMatches any node of any kind"
   ]
  },
  {
   "cell_type": "code",
   "execution_count": null,
   "metadata": {
    "id": "Mw4SVDByahyA",
    "outputId": "fe134767-0616-4b79-a9b6-3168d0d55cb2"
   },
   "outputs": [
    {
     "data": {
      "text/plain": [
       "[<Element img at 0x7f57e9a375c0>, <Element img at 0x7f57d99e9e80>]"
      ]
     },
     "execution_count": 87,
     "metadata": {},
     "output_type": "execute_result"
    }
   ],
   "source": [
    "# Get all class equal to `imgeclass` regardless of their location\n",
    "\n",
    "dom.xpath('//*[@class=\"imgclass\"]')"
   ]
  },
  {
   "cell_type": "code",
   "execution_count": null,
   "metadata": {
    "id": "YfwT6swKahyA",
    "outputId": "f04fa40e-9b62-417a-e85c-4af665ead932"
   },
   "outputs": [
    {
     "data": {
      "text/plain": [
       "['https://www.weclouddata.com/wp-content/uploads/2021/01/WCD-Logo.svg',\n",
       " 'https://weclouddata.s3.amazonaws.com/images/random/marvel_spiderman.JPG']"
      ]
     },
     "execution_count": 89,
     "metadata": {},
     "output_type": "execute_result"
    }
   ],
   "source": [
    "# Get URLs of all element class equal to `imgclass`\n",
    "imgclass = [e.get('src') for e in dom.xpath('//*[@class=\"imgclass\"]')]\n",
    "imgclass"
   ]
  }
 ],
 "metadata": {
  "colab": {
   "provenance": []
  },
  "kernelspec": {
   "display_name": "Python 3 (ipykernel)",
   "language": "python",
   "name": "python3"
  },
  "language_info": {
   "codemirror_mode": {
    "name": "ipython",
    "version": 3
   },
   "file_extension": ".py",
   "mimetype": "text/x-python",
   "name": "python",
   "nbconvert_exporter": "python",
   "pygments_lexer": "ipython3",
   "version": "3.9.12"
  },
  "vscode": {
   "interpreter": {
    "hash": "77aa5c7a8032890130e9a412da4828609b1dfa25c62620094c03af7a5cea44b0"
   }
  }
 },
 "nbformat": 4,
 "nbformat_minor": 1
}
