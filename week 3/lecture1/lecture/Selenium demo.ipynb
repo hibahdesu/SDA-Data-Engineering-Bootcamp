{
 "cells": [
  {
   "cell_type": "code",
   "execution_count": 1,
   "metadata": {},
   "outputs": [],
   "source": [
    "from selenium import webdriver\n",
    "from selenium.webdriver.common.by import By\n",
    "from selenium.webdriver.support.ui import WebDriverWait\n",
    "from selenium.webdriver.support import expected_conditions as EC\n",
    "from selenium.webdriver.common.action_chains import ActionChains\n",
    "from selenium.webdriver.common.keys import Keys\n",
    "import time"
   ]
  },
  {
   "cell_type": "code",
   "execution_count": 2,
   "metadata": {},
   "outputs": [],
   "source": [
    "chrome_options = webdriver.ChromeOptions()\n",
    "# chrome_options.add_argument('--headless')\n",
    "# Define a driver.\n",
    "driver = webdriver.Chrome('C:\\WebDriver\\chromedriver.exe', options = chrome_options)\n",
    "# Open the window maximized.\n",
    "driver.maximize_window()\n",
    "# Navigate to ubereats when driver initialized.\n",
    "driver.get('https://www.ubereats.com')\n",
    "# Locate input field and wait it to load properly.\n",
    "input_pos = WebDriverWait(driver, 5).until(\n",
    "                    EC.presence_of_element_located(\n",
    "                        (By.XPATH, '//*[@id=\"location-typeahead-home-input\"]')\n",
    "                    )\n",
    "            )\n",
    "# Perform input at input field, inputing '1 Yonge St'.\n",
    "actions = ActionChains(driver)\n",
    "actions.send_keys_to_element(input_pos, '1 Yonge St')\n",
    "actions.perform()\n",
    "# Wait 5 seconds for the results to show up.\n",
    "time.sleep(5)\n",
    "# Locate the suggested location and click on it.\n",
    "click_pos = WebDriverWait(driver, 5).until(\n",
    "                    EC.presence_of_element_located(\n",
    "                        (By.XPATH, '//*[@id=\"location-typeahead-home-item-0\"]/div[3]/div[2]')\n",
    "                    )\n",
    "            )\n",
    "click_pos.click()\n",
    "# Wait 5 seconds for the new page to load.\n",
    "time.sleep(5)\n",
    "#Initialize variable.\n",
    "start_pos = 1\n",
    "\n",
    "try:\n",
    "    while True:\n",
    "        # Find the food type element\n",
    "        food_type = driver.find_element_by_xpath(\n",
    "            '//*[@id=\"main-content\"]/nav[1]/ul/li[{0}]/a/div/div[2]/span'.format(start_pos)\n",
    "        )\n",
    "        # Print out the food type text.\n",
    "        print(food_type.text)\n",
    "        # Move on to next food type.\n",
    "        start_pos += 1\n",
    "except:\n",
    "    pass\n",
    "finally:\n",
    "    # Close the driver at the end.\n",
    "    driver.quit()"
   ]
  }
 ],
 "metadata": {
  "kernelspec": {
   "display_name": "Python 3 (ipykernel)",
   "language": "python",
   "name": "python3"
  },
  "language_info": {
   "codemirror_mode": {
    "name": "ipython",
    "version": 3
   },
   "file_extension": ".py",
   "mimetype": "text/x-python",
   "name": "python",
   "nbconvert_exporter": "python",
   "pygments_lexer": "ipython3",
   "version": "3.11.5"
  }
 },
 "nbformat": 4,
 "nbformat_minor": 4
}
