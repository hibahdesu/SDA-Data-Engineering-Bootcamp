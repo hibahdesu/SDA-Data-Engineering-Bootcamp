{
  "cells": [
    {
      "cell_type": "code",
      "execution_count": 1,
      "metadata": {
        "pycharm": {
          "name": "#%%\n"
        },
        "id": "tqy5k7WbK08D"
      },
      "outputs": [],
      "source": [
        "import requests\n",
        "from bs4 import BeautifulSoup, NavigableString\n",
        "import pandas as pd\n",
        "import re"
      ]
    },
    {
      "cell_type": "code",
      "execution_count": 2,
      "metadata": {
        "pycharm": {
          "name": "#%%\n"
        },
        "id": "PMljEnRbK08F"
      },
      "outputs": [],
      "source": [
        "def extract_asoup(url, parser='lxml'):\n",
        "  page = requests.get(url)\n",
        "  soup = BeautifulSoup(page.content, parser)\n",
        "  return soup"
      ]
    },
    {
      "cell_type": "code",
      "execution_count": 3,
      "outputs": [],
      "source": [
        "watches_url = \"https://www.jaquet-droz.com/en/watches\""
      ],
      "metadata": {
        "pycharm": {
          "name": "#%%\n"
        },
        "id": "EUiCxATpK08G"
      }
    },
    {
      "cell_type": "code",
      "execution_count": 4,
      "outputs": [],
      "source": [
        "soup = extract_asoup(watches_url, 'html.parser')"
      ],
      "metadata": {
        "pycharm": {
          "name": "#%%\n"
        },
        "id": "vWOIEDX7K08H"
      }
    },
    {
      "cell_type": "code",
      "execution_count": 5,
      "outputs": [
        {
          "output_type": "execute_result",
          "data": {
            "text/plain": [
              "['https://www.jaquet-droz.com/en/watches/timepieces',\n",
              " 'https://www.jaquet-droz.com/en/watches/automata',\n",
              " 'https://www.jaquet-droz.com/en/watches/ateliers-d-art',\n",
              " 'https://www.jaquet-droz.com/en/watches/grande-seconde',\n",
              " 'https://www.jaquet-droz.com/en/watches/sw',\n",
              " 'https://www.jaquet-droz.com/en/watches/petite-heure-minute',\n",
              " 'https://www.jaquet-droz.com/en/watches/lady-8',\n",
              " 'https://www.jaquet-droz.com/en/watches/astrale']"
            ]
          },
          "metadata": {},
          "execution_count": 5
        }
      ],
      "source": [
        "links = soup.find_all('a', href=True)\n",
        "watches_urls = [link['href'] for link in links if link['href'].startswith(\"https://www.jaquet-droz.com/en/watches/\")]\n",
        "watches_urls"
      ],
      "metadata": {
        "pycharm": {
          "name": "#%%\n"
        },
        "colab": {
          "base_uri": "https://localhost:8080/"
        },
        "id": "tTGF2L-NK08J",
        "outputId": "7c2b0587-8d5b-4ebe-b08b-503b7048c96a"
      }
    },
    {
      "cell_type": "code",
      "execution_count": null,
      "outputs": [
        {
          "output_type": "stream",
          "name": "stderr",
          "text": [
            "<ipython-input-6-1945db3fb3f8>:17: DeprecationWarning: The 'text' argument to find()-type methods is deprecated. Use 'string' instead.\n",
            "  features = watch_spec.find('th', text='Indications').find_next_sibling('td').text if watch_spec.find('th', text='Indications') else \"None\"\n",
            "<ipython-input-6-1945db3fb3f8>:19: DeprecationWarning: The 'text' argument to find()-type methods is deprecated. Use 'string' instead.\n",
            "  if watch_spec.find('th', text='Jewelling') else \"\"\n",
            "<ipython-input-6-1945db3fb3f8>:18: DeprecationWarning: The 'text' argument to find()-type methods is deprecated. Use 'string' instead.\n",
            "  jewels = watch_spec.find('th', text='Jewelling').find_next_sibling('td').text \\\n",
            "<ipython-input-6-1945db3fb3f8>:20: DeprecationWarning: The 'text' argument to find()-type methods is deprecated. Use 'string' instead.\n",
            "  frequency = watch_spec.find('th', text='Frequency').find_next_sibling('td').text if watch_spec.find('th', text='Frequency') else \"\"\n",
            "<ipython-input-6-1945db3fb3f8>:21: DeprecationWarning: The 'text' argument to find()-type methods is deprecated. Use 'string' instead.\n",
            "  power_reserve = watch_spec.find('th', text='Power reserve').find_next_sibling('td').text if watch_spec.find('th', text='Power reserve') else \"\"\n",
            "<ipython-input-6-1945db3fb3f8>:22: DeprecationWarning: The 'text' argument to find()-type methods is deprecated. Use 'string' instead.\n",
            "  caliber = watch_spec.find('th', text='Movement').find_next_sibling('td').text if watch_spec.find('th', text='Movement') else \"\"\n",
            "<ipython-input-6-1945db3fb3f8>:24: DeprecationWarning: The 'text' argument to find()-type methods is deprecated. Use 'string' instead.\n",
            "  clasp_type = watch_spec.find('th', text='Buckle').find_next_sibling('td').text if watch_spec.find('th', text='Buckle') else \"\"\n",
            "<ipython-input-6-1945db3fb3f8>:25: DeprecationWarning: The 'text' argument to find()-type methods is deprecated. Use 'string' instead.\n",
            "  bracelet_color = watch_spec.find('th', text='Strap').find_next_sibling('td').text if watch_spec.find('th', text='Strap') else \"\"\n",
            "<ipython-input-6-1945db3fb3f8>:27: DeprecationWarning: The 'text' argument to find()-type methods is deprecated. Use 'string' instead.\n",
            "  dial_color = watch_spec.find('th', text='Dial').find_next_sibling('td').text if watch_spec.find('th', text='Dial') else \"\"\n",
            "<ipython-input-6-1945db3fb3f8>:28: DeprecationWarning: The 'text' argument to find()-type methods is deprecated. Use 'string' instead.\n",
            "  water_resistance = watch_spec.find('th', text=lambda text: text and 'resistance' in text).find_next_sibling('td').text if watch_spec.find('th', text=lambda text: text and 'resistance' in text) else \"\"\n",
            "<ipython-input-6-1945db3fb3f8>:29: DeprecationWarning: The 'text' argument to find()-type methods is deprecated. Use 'string' instead.\n",
            "  case_thickness = watch_spec.find('th', text='Case').find_next_sibling('td').text if watch_spec.find('th', text='Case') else \"\"\n",
            "<ipython-input-6-1945db3fb3f8>:37: DeprecationWarning: The 'text' argument to find()-type methods is deprecated. Use 'string' instead.\n",
            "  reference_number = watch_spec.find('th', text='Reference').find_next_sibling('td').text\n"
          ]
        }
      ],
      "source": [
        "watches_data = []\n",
        "for watch_url in watches_urls:\n",
        "    watch_soup = extract_asoup(watch_url, 'html.parser')\n",
        "    content = watch_soup.find('div', class_ = 'block block-system')\n",
        "    if content is None:\n",
        "        continue\n",
        "    parent_model = content.find('h1').text\n",
        "    item_list = content.find_all('a', href=True)\n",
        "    urls =[link['href'] for link in item_list]\n",
        "    for watch in urls:\n",
        "        watch_URL = watch\n",
        "        watch_infos = extract_asoup(watch, 'html.parser')\n",
        "        watch_info = watch_infos.find('div', class_ = 'watch-infos')\n",
        "        specific_model = watch_info.find('h1', class_ = 'title-node').text\n",
        "        description = watch_info.find('div', class_ = 'description').text.strip()\n",
        "        watch_spec = watch_info.find('div', class_ = 'watch-spec')\n",
        "        features = watch_spec.find('th', text='Indications').find_next_sibling('td').text if watch_spec.find('th', text='Indications') else \"None\"\n",
        "        jewels = watch_spec.find('th', text='Jewelling').find_next_sibling('td').text \\\n",
        "            if watch_spec.find('th', text='Jewelling') else \"\"\n",
        "        frequency = watch_spec.find('th', text='Frequency').find_next_sibling('td').text if watch_spec.find('th', text='Frequency') else \"\"\n",
        "        power_reserve = watch_spec.find('th', text='Power reserve').find_next_sibling('td').text if watch_spec.find('th', text='Power reserve') else \"\"\n",
        "        caliber = watch_spec.find('th', text='Movement').find_next_sibling('td').text if watch_spec.find('th', text='Movement') else \"\"\n",
        "        movement = caliber\n",
        "        clasp_type = watch_spec.find('th', text='Buckle').find_next_sibling('td').text if watch_spec.find('th', text='Buckle') else \"\"\n",
        "        bracelet_color = watch_spec.find('th', text='Strap').find_next_sibling('td').text if watch_spec.find('th', text='Strap') else \"\"\n",
        "        bracelet_material = bracelet_color\n",
        "        dial_color = watch_spec.find('th', text='Dial').find_next_sibling('td').text if watch_spec.find('th', text='Dial') else \"\"\n",
        "        water_resistance = watch_spec.find('th', text=lambda text: text and 'resistance' in text).find_next_sibling('td').text if watch_spec.find('th', text=lambda text: text and 'resistance' in text) else \"\"\n",
        "        case_thickness = watch_spec.find('th', text='Case').find_next_sibling('td').text if watch_spec.find('th', text='Case') else \"\"\n",
        "        diameter = case_thickness\n",
        "        case_material = case_thickness\n",
        "\n",
        "        image_URL = watch_infos.find('div', class_='watch-picture').find('img').get('src')\n",
        "        price =\"N/A\"\n",
        "        currency = \"N/A\"\n",
        "        brand = \"Jaquet Droz\"\n",
        "        reference_number = watch_spec.find('th', text='Reference').find_next_sibling('td').text\n",
        "\n",
        "        if watch_infos.select('div.variantes li.variante:not(.active)'):\n",
        "            list_colors = [li.find('a')['href'] for li in watch_infos.select('div.variantes li.variante:not(.active)')]\n",
        "            # اضافة ل ليستت الساعات بعد الساعة الحالية اذا الرابط مو موجود\n",
        "            index = urls.index(watch)\n",
        "            urls[index:index] = [item for item in list_colors if item not in urls]\n",
        "\n",
        "\n",
        "\n",
        "        watches_data.append({\n",
        "            \"field name\": \"value\",\n",
        "            \"reference_number\": reference_number,\n",
        "            \"watch_URL\": watch_URL,\n",
        "            \"type\": \"\",\n",
        "            \"brand\": brand,\n",
        "            \"year_introduced\": \"\",\n",
        "            \"parent_model\": parent_model,\n",
        "            \"specific_model\": specific_model,\n",
        "            \"nickname\": \"\",\n",
        "            \"marketing_name\": \"\",\n",
        "            \"style\": \"\",\n",
        "            \"currency\": currency,\n",
        "            \"price\": price,\n",
        "            \"image_URL\": image_URL,\n",
        "            \"made_in\": \"\",\n",
        "            \"case_shape\": \"\",\n",
        "            \"case_material\": case_material,\n",
        "            \"case_finish\": \"\",\n",
        "            \"caseback\": \"\",\n",
        "            \"diameter\": diameter,\n",
        "            \"between_lugs\": \"\",\n",
        "            \"lug_to_lug\": \"\",\n",
        "            \"case_thickness\": case_thickness,\n",
        "            \"bezel_material\": \"\",\n",
        "            \"bezel_color\": \"\",\n",
        "            \"crystal\": \"\",\n",
        "            \"water_resistance\": water_resistance,\n",
        "            \"weight\": \"\",\n",
        "            \"dial_color\": dial_color,\n",
        "            \"numerals\": \"\",\n",
        "            \"bracelet_material\": bracelet_material,\n",
        "            \"bracelet_color\": bracelet_color,\n",
        "            \"clasp_type\": clasp_type,\n",
        "            \"caliber\": caliber,\n",
        "           \"power_reserve\": power_reserve,\n",
        "           \"frequency\": frequency,\n",
        "           \"jewels\": jewels,\n",
        "           \"features\": features,\n",
        "           \"description\": description,\n",
        "           \"short_description\": \"\",\n",
        "        })"
      ],
      "metadata": {
        "pycharm": {
          "name": "#%%\n",
          "is_executing": true
        },
        "colab": {
          "base_uri": "https://localhost:8080/"
        },
        "id": "1dTF9q1sK08L",
        "outputId": "c7fb1201-89bd-4ec0-d786-88829b557a13"
      }
    },
    {
      "cell_type": "code",
      "execution_count": null,
      "outputs": [],
      "source": [
        "\n",
        "watches_data.append({\n",
        "            \"field name\": \"value\",\n",
        "            \"reference_number\": \"Listed under \\\"Technical Data\\\" > \\\"Reference\\\"\",\n",
        "            \"watch_URL\": \"\",\n",
        "            \"type\": \"\",\n",
        "            \"brand\": \"\",\n",
        "            \"year_introduced\": \"\",\n",
        "            \"parent_model\": \"Product Breadcrumb on page or in watch_url\",\n",
        "            \"specific_model\": \"Parent model + Product title (please make sure to scrape the actual html text so the capitalization is correct)\",\n",
        "            \"nickname\": \"\",\n",
        "            \"marketing_name\": \"\",\n",
        "            \"style\": \"\",\n",
        "            \"currency\": \"N/A\",\n",
        "            \"price\": \"N/A\",\n",
        "            \"image_URL\": \"\",\n",
        "            \"made_in\": \"\",\n",
        "            \"case_shape\": \"\",\n",
        "            \"case_material\": \"Listed under \\\"Technical Data\\\" > \\\"Case\\\"\",\n",
        "            \"case_finish\": \"\",\n",
        "            \"caseback\": \"\",\n",
        "            \"diameter\": \"Listed under \\\"Technical Data\\\" > \\\"Case\\\". If you can extract just the Diameter sentence that's great, but if not, just do the whole field.\",\n",
        "            \"between_lugs\": \"\",\n",
        "            \"lug_to_lug\": \"\",\n",
        "            \"case_thickness\": \"Listed under \\\"Technical Data\\\" > \\\"Case\\\". If you can extract just the Diameter sentence that's great, but if not, just do the whole field.\",\n",
        "            \"bezel_material\": \"\",\n",
        "            \"bezel_color\": \"\",\n",
        "            \"crystal\": \"\",\n",
        "            \"water_resistance\": \"Listed under \\\"Technical Data\\\" > \\\"Water Resistance\\\"\",\n",
        "            \"weight\": \"\",\n",
        "            \"dial_color\": \"Listed under \\\"Technical Data\\\" > \\\"Dial\\\"\",\n",
        "            \"numerals\": \"\",\n",
        "            \"bracelet_material\": \"Listed under \\\"Technical Data\\\" > \\\"Strap\\\"\",\n",
        "            \"bracelet_color\": \"Listed under \\\"Technical Data\\\" > \\\"Strap\\\"\",\n",
        "            \"clasp_type\": \"Listed under \\\"Technical Data\\\" > \\\"Movement\\\"\",\n",
        "            \"caliber\": \"Listed under \\\"Technical Data\\\" > \\\"Movement\\\"\",\n",
        "           \"power_reserve\": \"Listed under \\\"Technical Data\\\" > \\\"Power Reserve\\\"\",\n",
        "           \"frequency\": \"Listed under \\\"Technical Data\\\" > \\\"Frequency\\\"\",\n",
        "           \"jewels\": \"Listed under \\\"Technical Data\\\" > \\\"Jewelling\\\"\",\n",
        "           \"features\": \"Listed under \\\"Technical Data\\\" > \\\"Indications\\\"\",\n",
        "           \"description\": \"Main product description (before you click Technical Data)\",\n",
        "           \"short_description\": \"\",\n",
        "        })"
      ],
      "metadata": {
        "pycharm": {
          "name": "#%%\n"
        },
        "id": "t_Jr5Me_K08W"
      }
    },
    {
      "cell_type": "code",
      "execution_count": null,
      "outputs": [],
      "source": [
        "df_watches_data = pd.DataFrame(watches_data)\n",
        "df_watches_data"
      ],
      "metadata": {
        "pycharm": {
          "name": "#%%\n"
        },
        "id": "YXTTY-0PK08X"
      }
    },
    {
      "cell_type": "code",
      "execution_count": null,
      "outputs": [],
      "source": [
        "df_watches_data.to_csv('df_watches_data.csv', index=False, encoding='utf-8-sig')"
      ],
      "metadata": {
        "pycharm": {
          "name": "#%%\n"
        },
        "id": "vyOJO4SJK08Y"
      }
    }
  ],
  "metadata": {
    "kernelspec": {
      "display_name": "Python 3 (ipykernel)",
      "language": "python",
      "name": "python3"
    },
    "language_info": {
      "codemirror_mode": {
        "name": "ipython",
        "version": 3
      },
      "file_extension": ".py",
      "mimetype": "text/x-python",
      "name": "python",
      "nbconvert_exporter": "python",
      "pygments_lexer": "ipython3",
      "version": "3.9.13"
    },
    "colab": {
      "provenance": []
    }
  },
  "nbformat": 4,
  "nbformat_minor": 0
}