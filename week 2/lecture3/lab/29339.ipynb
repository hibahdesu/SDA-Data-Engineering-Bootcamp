{
 "cells": [
  {
   "cell_type": "markdown",
   "metadata": {
    "id": "vlF9Q-BDdtfl"
   },
   "source": [
    "<div  align='center'><img src='https://s3.amazonaws.com/weclouddata/images/logos/wcd_logo_new_2.png' width='25%'></div >\n",
    "\n",
    "<h1 align=\"center\"> Pandas Intro Exercises </h1>\n",
    "<h2 align=\"center\"> (Lab Version) </h2>\n",
    "\n",
    "</font></b></p>\n",
    "\n",
    "<br>\n",
    "<center align=\"center\"> Designed by: </center>\n",
    "<center align=\"center\"> WeCloudData Academy </center>"
   ]
  },
  {
   "cell_type": "markdown",
   "metadata": {
    "id": "DyyuSZ6wdtfp"
   },
   "source": [
    "# Data Exploration.\n",
    "\n",
    "> Dataset can be downloaded from here:\n",
    "- https://s3.amazonaws.com/weclouddata/datasets/genai/ml_fundamentals/telecom.csv"
   ]
  },
  {
   "cell_type": "code",
   "execution_count": null,
   "metadata": {
    "colab": {
     "base_uri": "https://localhost:8080/"
    },
    "executionInfo": {
     "elapsed": 1995,
     "status": "ok",
     "timestamp": 1700533109536,
     "user": {
      "displayName": "Shaohua Zhang",
      "userId": "05304020059488172090"
     },
     "user_tz": 300
    },
    "id": "iSkqA3b-q7BZ",
    "outputId": "3943b975-dae1-48c8-e5b0-46c0cbf8ff4a"
   },
   "outputs": [
    {
     "name": "stdout",
     "output_type": "stream",
     "text": [
      "--2023-11-21 02:18:27--  https://s3.amazonaws.com/weclouddata/datasets/genai/ml_fundamentals/telecom.csv\n",
      "Resolving s3.amazonaws.com (s3.amazonaws.com)... 54.231.230.120, 52.216.212.40, 54.231.236.40, ...\n",
      "Connecting to s3.amazonaws.com (s3.amazonaws.com)|54.231.230.120|:443... connected.\n",
      "HTTP request sent, awaiting response... 200 OK\n",
      "Length: 977501 (955K) [text/csv]\n",
      "Saving to: ‘telecom.csv’\n",
      "\n",
      "telecom.csv         100%[===================>] 954.59K   873KB/s    in 1.1s    \n",
      "\n",
      "2023-11-21 02:18:29 (873 KB/s) - ‘telecom.csv’ saved [977501/977501]\n",
      "\n"
     ]
    }
   ],
   "source": [
    "!wget https://s3.amazonaws.com/weclouddata/datasets/genai/ml_fundamentals/telecom.csv"
   ]
  },
  {
   "cell_type": "markdown",
   "metadata": {
    "id": "mGYP_By5dtfq"
   },
   "source": [
    "> ### Read in the telecom churn dataset.\n",
    ">    - Check for the size of the dataset.\n",
    ">    - Check for null values."
   ]
  },
  {
   "cell_type": "markdown",
   "metadata": {
    "id": "XxQPnx6fdtfq"
   },
   "source": [
    "> ### 1. Check for how many numerical and categorical there are in the dataset.\n",
    ">    - Use the select_dtypes() method. [select_dtypes](https://pandas.pydata.org/pandas-docs/stable/reference/api/pandas.DataFrame.select_dtypes.html)"
   ]
  },
  {
   "cell_type": "code",
   "execution_count": null,
   "metadata": {
    "id": "iUBGfF4Odtfr"
   },
   "outputs": [],
   "source": []
  },
  {
   "cell_type": "markdown",
   "metadata": {
    "id": "zDE3bFt1dtfr"
   },
   "source": [
    "> ### 2. Map the following columns `Partner`, `Dependents`, `PhoneService`\n",
    ">    - For each of the columns listed above, map `Yes` to `1`, `No` to `0`.\n"
   ]
  },
  {
   "cell_type": "code",
   "execution_count": null,
   "metadata": {
    "id": "3XbqGd1odtfr"
   },
   "outputs": [],
   "source": []
  },
  {
   "cell_type": "markdown",
   "metadata": {
    "id": "lDzvg6lTdtfs"
   },
   "source": [
    "> ### 3. Convert the data type of the `TotalCharges` column to the float data type.\n",
    ">    - Replace missing values with 0"
   ]
  },
  {
   "cell_type": "code",
   "execution_count": null,
   "metadata": {
    "id": "mC9toiKSdtfs"
   },
   "outputs": [],
   "source": []
  },
  {
   "cell_type": "markdown",
   "metadata": {
    "id": "D7r2b87Tdtft"
   },
   "source": [
    "> ### 4. Return the top 10 customers with the highest `TotalCharges`.\n",
    ">    - a) How many of these customers have multiple lines?\n",
    ">    - b) How many of these customers have subscribed to `PaperlessBilling`?"
   ]
  },
  {
   "cell_type": "code",
   "execution_count": null,
   "metadata": {
    "id": "Ua7EwX67dtft"
   },
   "outputs": [],
   "source": []
  },
  {
   "cell_type": "markdown",
   "metadata": {
    "id": "u07YAc19dtft"
   },
   "source": [
    "> ### 5. Return the top 100 customers with the highest `MonthlyCharges`\n",
    ">    - a) What was the most frequent `InternetService` used by these customers?\n",
    ">    - b) How many of these customers churned? (Return the results as a percentage)\n",
    ">        - **hint:** `normalize` parameter in value_counts() method."
   ]
  },
  {
   "cell_type": "code",
   "execution_count": null,
   "metadata": {
    "id": "bK6coJjrdtfu"
   },
   "outputs": [],
   "source": []
  },
  {
   "cell_type": "markdown",
   "metadata": {
    "id": "4NJ3Z5Khdtfu"
   },
   "source": [
    "> ### 6. Create a new column named `loyalty`. This column will contain the following:\n",
    "> Iterate through the `tenure` column and store the following elements in a list. Assign the list to the column `loyalty`:\n",
    ">    - If the customers tenure is below 12, flag it as `Bronze`.\n",
    ">    - If the customers tenure is between 12 and 24, flag it as `Silver`.\n",
    ">    - If the customers tenure is above 24, flag it as `Gold`.\n"
   ]
  },
  {
   "cell_type": "code",
   "execution_count": null,
   "metadata": {
    "id": "days00kQdtfu"
   },
   "outputs": [],
   "source": []
  },
  {
   "cell_type": "markdown",
   "metadata": {
    "id": "b4wVbCAUdtfu"
   },
   "source": [
    "> ### 7. Create a new column named `Customer Value`. This column will contain the following:\n",
    "> Iterate through the `TotalCharges` column and store the following elements in a list. Assign the list to the column `Customer Value`:\n",
    ">    - If the customers TotalCharges is below 1000, flag the customer as `low`.\n",
    ">    - If the customers TotalCharges is between 1000 and 3000, flag the customer as `medium`.\n",
    ">    - If the customers TotalCharges is above 3000, flag the customer as `high`."
   ]
  },
  {
   "cell_type": "code",
   "execution_count": null,
   "metadata": {
    "id": "SnpqhZgxdtfu"
   },
   "outputs": [],
   "source": []
  },
  {
   "cell_type": "markdown",
   "metadata": {
    "id": "aBMPLS5sdtfv"
   },
   "source": [
    "> ### 8. Which payment method is the most frequent?\n",
    ">    - a) Use the to_dict() method to convert the output to a dictionary.\n",
    ">    - b) Create a new dataframe `top_payment_method` using the dictionary generated from the previous step. Name the column `frequency`."
   ]
  },
  {
   "cell_type": "code",
   "execution_count": null,
   "metadata": {
    "id": "-e6U_6mzdtfv"
   },
   "outputs": [],
   "source": []
  },
  {
   "cell_type": "markdown",
   "metadata": {
    "id": "XsX4hYJrdtfv"
   },
   "source": [
    "> ### 9. How many customers are on a One year contract and have not completed a 12 month tenure?"
   ]
  },
  {
   "cell_type": "code",
   "execution_count": null,
   "metadata": {
    "id": "jSL5HwR9dtfv"
   },
   "outputs": [],
   "source": []
  },
  {
   "cell_type": "markdown",
   "metadata": {
    "id": "1dS26uYKdtfv"
   },
   "source": [
    "> ### 10. How many customers are on a One Year contract, are subscribed to tech support and are in the `Gold` loyalty program?"
   ]
  },
  {
   "cell_type": "code",
   "execution_count": null,
   "metadata": {
    "id": "pUPmhfCVdtfv"
   },
   "outputs": [],
   "source": []
  },
  {
   "cell_type": "markdown",
   "metadata": {
    "id": "vrMBDSP2dtfv"
   },
   "source": [
    "> ### 11. How many customers from the dataset churned? How many did not churn? (Display as a percentage)"
   ]
  },
  {
   "cell_type": "code",
   "execution_count": null,
   "metadata": {
    "id": "sFDOx4jPdtfv"
   },
   "outputs": [],
   "source": []
  },
  {
   "cell_type": "markdown",
   "metadata": {
    "id": "_fHzOApUdtfw"
   },
   "source": [
    "## Exploring customers who churned.\n",
    ">    - Create a dataframe for customers who churned and name the dataframe `churned`"
   ]
  },
  {
   "cell_type": "code",
   "execution_count": null,
   "metadata": {
    "id": "thsj35ePdtfw"
   },
   "outputs": [],
   "source": []
  },
  {
   "cell_type": "markdown",
   "metadata": {
    "id": "onNTJ9ULdtfw"
   },
   "source": [
    "> ### 12. For customers who churned:\n",
    ">    - a) What is the gender distribution?\n",
    ">    - b) What is the average tenure length per `Contract`?\n",
    ">    - c) For Males & Females, what is the average tenure length per `Contract` for each gender group?\n",
    ">    - d) For Males & Females, what is the average tenure length per `Contract` for each gender group for customers who are on `DSL`?"
   ]
  },
  {
   "cell_type": "code",
   "execution_count": null,
   "metadata": {
    "id": "LIUK4Qy-dtfw"
   },
   "outputs": [],
   "source": []
  },
  {
   "cell_type": "markdown",
   "metadata": {
    "id": "ASVKXluidtfw"
   },
   "source": [
    "> ### 13. Senior Citizens that churned:\n",
    ">    - a) Which `InternetService` brought in the most sales?\n",
    ">    - b) What is the distribution of seniors from each loyalty program?\n",
    ">    - c) Which `PaymentMethod` is bringing in the most sales from each loyalty program?\n",
    ">    - d) How many Seniors are in the `Gold` loyalty program or are a `low` valued customer?\n",
    ">    - e) Are there any Seniors that are in both the `Gold` loyalty program but considered a low valued customer?"
   ]
  },
  {
   "cell_type": "code",
   "execution_count": null,
   "metadata": {
    "id": "WORQbn2idtfw"
   },
   "outputs": [],
   "source": []
  }
 ],
 "metadata": {
  "colab": {
   "provenance": []
  },
  "kernelspec": {
   "display_name": "Python 3 (ipykernel)",
   "language": "python",
   "name": "python3"
  },
  "language_info": {
   "codemirror_mode": {
    "name": "ipython",
    "version": 3
   },
   "file_extension": ".py",
   "mimetype": "text/x-python",
   "name": "python",
   "nbconvert_exporter": "python",
   "pygments_lexer": "ipython3",
   "version": "3.9.12"
  }
 },
 "nbformat": 4,
 "nbformat_minor": 1
}
