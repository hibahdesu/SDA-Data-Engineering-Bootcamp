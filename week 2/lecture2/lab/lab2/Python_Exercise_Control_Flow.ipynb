{
 "cells": [
  {
   "cell_type": "markdown",
   "metadata": {
    "id": "gs58MxYJKHeM"
   },
   "source": [
    "<img align=\"left\" src=\"https://weclouddata.s3.amazonaws.com/images/logos/wcd_logo_new_2.png\"  width='15%'>\n",
    "<br></br><br></br>"
   ]
  },
  {
   "cell_type": "markdown",
   "metadata": {
    "id": "QVHT8nxnJ1Ya"
   },
   "source": [
    "<h3><center>Python Programming (Quiz 01)</center></h3>\n",
    "\n",
    "<ul>\n",
    "  <li><a href=\"#ref3\">List Manipulation</a>\n",
    "  </li>\n",
    "<ul>\n",
    "<hr>"
   ]
  },
  {
   "cell_type": "markdown",
   "metadata": {
    "id": "vxkNcUE0KUig"
   },
   "source": [
    "# List Manipulation"
   ]
  },
  {
   "cell_type": "code",
   "execution_count": 17,
   "metadata": {
    "id": "EjKjBEzeJfMd"
   },
   "outputs": [],
   "source": [
    "# Original list\n",
    "original_list = [3, 1, 4, 1, 5, 9, 2, 6, 5, 3, 5]"
   ]
  },
  {
   "cell_type": "code",
   "execution_count": 18,
   "metadata": {
    "id": "WyVgmIqRJtyH"
   },
   "outputs": [
    {
     "data": {
      "text/plain": [
       "[1, 2, 3, 4, 5, 6, 9]"
      ]
     },
     "execution_count": 18,
     "metadata": {},
     "output_type": "execute_result"
    }
   ],
   "source": [
    "# 1. Remove all duplicate elements from the list.\n",
    "original_list = [3, 1, 4, 1, 5, 9, 2, 6, 5, 3, 5]\n",
    "# CODE HERE\n",
    "\n",
    "without_dup = list(set(original_list))\n",
    "without_dup"
   ]
  },
  {
   "cell_type": "code",
   "execution_count": 19,
   "metadata": {},
   "outputs": [
    {
     "data": {
      "text/plain": [
       "[3, 1, 4, 1, 5, 9, 2, 6, 5, 3, 5]"
      ]
     },
     "execution_count": 19,
     "metadata": {},
     "output_type": "execute_result"
    }
   ],
   "source": [
    "original_list"
   ]
  },
  {
   "cell_type": "code",
   "execution_count": 22,
   "metadata": {
    "id": "33JX9y9BJvKZ"
   },
   "outputs": [],
   "source": [
    "# 2. Sort the list in ascending order.\n",
    "# CODE HERE\n",
    "\n",
    "original_list.sort()\n",
    "without_dup.sort()"
   ]
  },
  {
   "cell_type": "code",
   "execution_count": 23,
   "metadata": {},
   "outputs": [
    {
     "data": {
      "text/plain": [
       "[1, 1, 2, 3, 3, 4, 5, 5, 5, 6, 9]"
      ]
     },
     "execution_count": 23,
     "metadata": {},
     "output_type": "execute_result"
    }
   ],
   "source": [
    "original_list"
   ]
  },
  {
   "cell_type": "code",
   "execution_count": 27,
   "metadata": {
    "id": "TlGelu-YJwE6"
   },
   "outputs": [
    {
     "data": {
      "text/plain": [
       "30"
      ]
     },
     "execution_count": 27,
     "metadata": {},
     "output_type": "execute_result"
    }
   ],
   "source": [
    "# 3. Find the sum of all elements in the modified list.\n",
    "# CODE HERE\n",
    "\n",
    "sum_list = sum(without_dup)\n",
    "sum_list "
   ]
  },
  {
   "cell_type": "code",
   "execution_count": 29,
   "metadata": {
    "id": "_KiAARZUJw6h"
   },
   "outputs": [
    {
     "data": {
      "text/plain": [
       "4.285714285714286"
      ]
     },
     "execution_count": 29,
     "metadata": {},
     "output_type": "execute_result"
    }
   ],
   "source": [
    "# 4. Calculate the average of the elements in the modified list.\n",
    "# CODE HERE\n",
    "\n",
    "avg = sum(without_dup) / len(without_dup)\n",
    "avg"
   ]
  },
  {
   "cell_type": "code",
   "execution_count": null,
   "metadata": {
    "id": "FfKl1JTRJxvN"
   },
   "outputs": [],
   "source": [
    "# 5. Create a new list containing only the odd numbers from the modified list.\n",
    "# CODE HERE\n",
    "\n",
    "new_list = [n for n in without_dup]"
   ]
  }
 ],
 "metadata": {
  "colab": {
   "provenance": [
    {
     "file_id": "1GvHDaXGd6wlPm9n402XDh5lDzRLXQUpY",
     "timestamp": 1705404095203
    }
   ]
  },
  "kernelspec": {
   "display_name": "Python 3 (ipykernel)",
   "language": "python",
   "name": "python3"
  },
  "language_info": {
   "codemirror_mode": {
    "name": "ipython",
    "version": 3
   },
   "file_extension": ".py",
   "mimetype": "text/x-python",
   "name": "python",
   "nbconvert_exporter": "python",
   "pygments_lexer": "ipython3",
   "version": "3.11.5"
  }
 },
 "nbformat": 4,
 "nbformat_minor": 1
}
