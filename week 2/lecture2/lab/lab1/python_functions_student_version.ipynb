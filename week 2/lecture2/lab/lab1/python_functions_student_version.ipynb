{
 "cells": [
  {
   "cell_type": "markdown",
   "metadata": {},
   "source": [
    "<center>\n",
    "  <img src=\"https://s3.amazonaws.com/weclouddata/images/logos/wcd_logo_new_2.png\" />\n",
    "</center>"
   ]
  },
  {
   "cell_type": "markdown",
   "metadata": {},
   "source": [
    "<h1 style=\"text-align: center;\">WeCloudData - Data Engineer Program</h1>\n",
    "\n",
    "<h2 style=\"text-align: center;\">Python Functions Exercise</h2>"
   ]
  },
  {
   "cell_type": "markdown",
   "metadata": {},
   "source": [
    "### 1. Write down the expected output for the following code blocks.\n",
    "#### 1.1 sorted()"
   ]
  },
  {
   "cell_type": "code",
   "execution_count": 1,
   "metadata": {},
   "outputs": [
    {
     "data": {
      "text/plain": [
       "[1, 2, 3, 5, 6, 7]"
      ]
     },
     "execution_count": 1,
     "metadata": {},
     "output_type": "execute_result"
    }
   ],
   "source": [
    "x = [2, 1, 3, 5, 7, 6]\n",
    "sorted(x)"
   ]
  },
  {
   "cell_type": "markdown",
   "metadata": {},
   "source": [
    "#### 1.2 str()"
   ]
  },
  {
   "cell_type": "code",
   "execution_count": 2,
   "metadata": {},
   "outputs": [
    {
     "data": {
      "text/plain": [
       "'200'"
      ]
     },
     "execution_count": 2,
     "metadata": {},
     "output_type": "execute_result"
    }
   ],
   "source": [
    "x = 200\n",
    "str(x)"
   ]
  },
  {
   "cell_type": "markdown",
   "metadata": {},
   "source": [
    "#### 1.3 any()"
   ]
  },
  {
   "cell_type": "code",
   "execution_count": 3,
   "metadata": {},
   "outputs": [
    {
     "data": {
      "text/plain": [
       "True"
      ]
     },
     "execution_count": 3,
     "metadata": {},
     "output_type": "execute_result"
    }
   ],
   "source": [
    "x = [False, True, False, False]\n",
    "any(x)"
   ]
  },
  {
   "cell_type": "markdown",
   "metadata": {},
   "source": [
    "#### 1.4 all()"
   ]
  },
  {
   "cell_type": "code",
   "execution_count": 4,
   "metadata": {},
   "outputs": [
    {
     "data": {
      "text/plain": [
       "False"
      ]
     },
     "execution_count": 4,
     "metadata": {},
     "output_type": "execute_result"
    }
   ],
   "source": [
    "x = [False, True, False, False]\n",
    "all(x)"
   ]
  },
  {
   "cell_type": "markdown",
   "metadata": {},
   "source": [
    "### 2. Complete the given functions bodys based on the descriptions. \n",
    "#### 2.1 Write a function that takes a list of integers as input, and returns a combined sorted list."
   ]
  },
  {
   "cell_type": "code",
   "execution_count": 7,
   "metadata": {},
   "outputs": [
    {
     "data": {
      "text/plain": [
       "[1, 2, 2, 3, 3, 4, 4, 9]"
      ]
     },
     "execution_count": 7,
     "metadata": {},
     "output_type": "execute_result"
    }
   ],
   "source": [
    "def list_int(l):\n",
    "    sorted_list = sorted(l)\n",
    "    return sorted_list\n",
    "\n",
    "list_int([1, 3, 4, 3, 2, 9, 4, 2])\n",
    "   "
   ]
  },
  {
   "cell_type": "markdown",
   "metadata": {},
   "source": [
    "####  2.2 Write a function that takes two lists of integers as input, and returns a combined sorted list."
   ]
  },
  {
   "cell_type": "code",
   "execution_count": 10,
   "metadata": {},
   "outputs": [
    {
     "data": {
      "text/plain": [
       "[1, 2, 2, 3, 4, 5]"
      ]
     },
     "execution_count": 10,
     "metadata": {},
     "output_type": "execute_result"
    }
   ],
   "source": [
    "def two_list(l1, l2):\n",
    "    lists = l1 + l2\n",
    "    sorted_lists = sorted(lists)\n",
    "    return sorted_lists\n",
    "\n",
    "two_list([1, 5,2], [3, 2,4])"
   ]
  },
  {
   "cell_type": "markdown",
   "metadata": {},
   "source": [
    "#### 2.3 Write a function that takes in a string, and returns the start and end substring combined.\n",
    "Hint:\n",
    "* if the input is `'abcd'`, the output would be `'ad'`"
   ]
  },
  {
   "cell_type": "code",
   "execution_count": 11,
   "metadata": {},
   "outputs": [
    {
     "data": {
      "text/plain": [
       "'ad'"
      ]
     },
     "execution_count": 11,
     "metadata": {},
     "output_type": "execute_result"
    }
   ],
   "source": [
    "def sub(s):\n",
    "    return s[0] + s[-1]\n",
    "sub('abcd')"
   ]
  },
  {
   "cell_type": "markdown",
   "metadata": {},
   "source": [
    "#### 2.4 Write a function that takes in a dictionary, and prints out all the keys.\n",
    "Hint:\n",
    "* use `for loop`"
   ]
  },
  {
   "cell_type": "code",
   "execution_count": 12,
   "metadata": {},
   "outputs": [
    {
     "name": "stdout",
     "output_type": "stream",
     "text": [
      "a\n",
      "b\n"
     ]
    }
   ],
   "source": [
    "def keys(dic):\n",
    "    for i in dic:\n",
    "        print(i)\n",
    "        \n",
    "keys({'a': 1, 'b': 2})"
   ]
  },
  {
   "cell_type": "markdown",
   "metadata": {},
   "source": [
    "#### (Optional) 2.5 Write a function that takes several integers as input, and returns the mean of them.\n",
    "Hint: \n",
    "* use `list()`\n",
    "* if input is `(1, 3, 5, 6)`, the output would be `3.75`"
   ]
  },
  {
   "cell_type": "code",
   "execution_count": 15,
   "metadata": {},
   "outputs": [
    {
     "data": {
      "text/plain": [
       "3.75"
      ]
     },
     "execution_count": 15,
     "metadata": {},
     "output_type": "execute_result"
    }
   ],
   "source": [
    "def mean(*n):\n",
    "    lis = list(n)\n",
    "    mean = sum(lis) / len(lis)\n",
    "    return mean\n",
    "mean(1, 3, 5, 6)"
   ]
  },
  {
   "cell_type": "markdown",
   "metadata": {},
   "source": [
    "#### (Optional) 2.6 Write a function that takes several integers as input, and returns the median of them.returns 2.5.\n",
    "Hint: \n",
    "* use `list()`\n",
    "* if input is `(1, 2, 3, 4)`, the output would be `2.5`"
   ]
  },
  {
   "cell_type": "code",
   "execution_count": 17,
   "metadata": {},
   "outputs": [
    {
     "data": {
      "text/plain": [
       "2.5"
      ]
     },
     "execution_count": 17,
     "metadata": {},
     "output_type": "execute_result"
    }
   ],
   "source": [
    "def median(*n):\n",
    "    lis = list(n)\n",
    "    sorted_list = sorted(lis)\n",
    "    if len(lis) % 2 == 1:\n",
    "        median = lis[len(lis) // 2]\n",
    "    else:\n",
    "        median = (lis[len(lis) // 2 - 1] + lis[len(lis) // 2]) / 2\n",
    "    return median\n",
    "median(1, 2, 3, 4)"
   ]
  },
  {
   "cell_type": "markdown",
   "metadata": {},
   "source": [
    "#### (Optional) 2.7 Write a function that uses a lambda expression that takes a list of integers, and returns the list of same input integers squared. \n",
    "Hint: \n",
    "* use `map()`\n",
    "* if input is `[1, 2, 3]`, then the output would be `[1, 4, 9]`"
   ]
  },
  {
   "cell_type": "code",
   "execution_count": 18,
   "metadata": {},
   "outputs": [
    {
     "data": {
      "text/plain": [
       "[1, 4, 9]"
      ]
     },
     "execution_count": 18,
     "metadata": {},
     "output_type": "execute_result"
    }
   ],
   "source": [
    "def squared(*n):\n",
    "    sq_list = list(map(lambda x: x ** 2, n))\n",
    "    return  sq_list\n",
    "squared(1, 2, 3)"
   ]
  },
  {
   "cell_type": "markdown",
   "metadata": {},
   "source": [
    "#### (Optional) 2.8 Write a recursive function that takes an positive integer as input, and outputs the sum from 1 to that integer. \n",
    "Hint:\n",
    "* use `recursive function`\n",
    "* if input is `5`, then the output would be `15` (1 + 2 + 3 + 4 + 5)"
   ]
  },
  {
   "cell_type": "code",
   "execution_count": 19,
   "metadata": {},
   "outputs": [
    {
     "data": {
      "text/plain": [
       "15"
      ]
     },
     "execution_count": 19,
     "metadata": {},
     "output_type": "execute_result"
    }
   ],
   "source": [
    "def recursive(inp):\n",
    "    if inp == 1:\n",
    "        return 1\n",
    "    else:\n",
    "        return inp + recursive(inp - 1)\n",
    "recursive(5)"
   ]
  },
  {
   "cell_type": "code",
   "execution_count": null,
   "metadata": {},
   "outputs": [],
   "source": []
  }
 ],
 "metadata": {
  "kernelspec": {
   "display_name": "Python 3 (ipykernel)",
   "language": "python",
   "name": "python3"
  },
  "language_info": {
   "codemirror_mode": {
    "name": "ipython",
    "version": 3
   },
   "file_extension": ".py",
   "mimetype": "text/x-python",
   "name": "python",
   "nbconvert_exporter": "python",
   "pygments_lexer": "ipython3",
   "version": "3.11.5"
  }
 },
 "nbformat": 4,
 "nbformat_minor": 4
}
