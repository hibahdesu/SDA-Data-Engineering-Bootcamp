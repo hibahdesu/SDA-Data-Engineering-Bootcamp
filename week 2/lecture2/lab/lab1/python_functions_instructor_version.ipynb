{
 "cells": [
  {
   "cell_type": "markdown",
   "metadata": {},
   "source": [
    "<center>\n",
    "  <img src=\"https://s3.amazonaws.com/weclouddata/images/logos/wcd_logo_new_2.png\" />\n",
    "</center>"
   ]
  },
  {
   "cell_type": "markdown",
   "metadata": {},
   "source": [
    "<h1 style=\"text-align: center;\">WeCloudData - Data Engineer Program</h1>\n",
    "\n",
    "<h2 style=\"text-align: center;\">Python Functions Exercise</h2>"
   ]
  },
  {
   "cell_type": "markdown",
   "metadata": {},
   "source": [
    "### 1. Write down the expected output for the following code blocks.\n",
    "#### 1.1 sorted()"
   ]
  },
  {
   "cell_type": "code",
   "execution_count": 1,
   "metadata": {},
   "outputs": [
    {
     "data": {
      "text/plain": [
       "[1, 2, 3, 5, 6, 7]"
      ]
     },
     "execution_count": 1,
     "metadata": {},
     "output_type": "execute_result"
    }
   ],
   "source": [
    "x = [2, 1, 3, 5, 7, 6]\n",
    "sorted(x)"
   ]
  },
  {
   "cell_type": "markdown",
   "metadata": {},
   "source": [
    "#### 1.2 str()"
   ]
  },
  {
   "cell_type": "code",
   "execution_count": 2,
   "metadata": {},
   "outputs": [
    {
     "data": {
      "text/plain": [
       "'200'"
      ]
     },
     "execution_count": 2,
     "metadata": {},
     "output_type": "execute_result"
    }
   ],
   "source": [
    "x = 200\n",
    "str(x)"
   ]
  },
  {
   "cell_type": "markdown",
   "metadata": {},
   "source": [
    "#### 1.3 any()"
   ]
  },
  {
   "cell_type": "code",
   "execution_count": 3,
   "metadata": {},
   "outputs": [
    {
     "data": {
      "text/plain": [
       "True"
      ]
     },
     "execution_count": 3,
     "metadata": {},
     "output_type": "execute_result"
    }
   ],
   "source": [
    "x = [False, True, False, False]\n",
    "any(x)"
   ]
  },
  {
   "cell_type": "markdown",
   "metadata": {},
   "source": [
    "#### 1.4 all()"
   ]
  },
  {
   "cell_type": "code",
   "execution_count": 4,
   "metadata": {},
   "outputs": [
    {
     "data": {
      "text/plain": [
       "False"
      ]
     },
     "execution_count": 4,
     "metadata": {},
     "output_type": "execute_result"
    }
   ],
   "source": [
    "x = [False, True, False, False]\n",
    "all(x)"
   ]
  },
  {
   "cell_type": "markdown",
   "metadata": {},
   "source": [
    "### 2. Complete the given functions bodys based on the descriptions. \n",
    "#### 2.1 Write a function that takes a list of integers as input, and returns a combined sorted list."
   ]
  },
  {
   "cell_type": "code",
   "execution_count": 5,
   "metadata": {},
   "outputs": [],
   "source": [
    "def sort_one_list(lst):\n",
    "    sorted_list = sorted(lst)\n",
    "    return sorted_list"
   ]
  },
  {
   "cell_type": "markdown",
   "metadata": {},
   "source": [
    "####  2.2 Write a function that takes two lists of integers as input, and returns a combined sorted list."
   ]
  },
  {
   "cell_type": "code",
   "execution_count": 6,
   "metadata": {},
   "outputs": [],
   "source": [
    "def sort_two_lists(lst1, lst2):\n",
    "    new_lst = lst1 + lst2\n",
    "    sorted_lst = sorted(new_lst)\n",
    "    return sorted_lst"
   ]
  },
  {
   "cell_type": "markdown",
   "metadata": {},
   "source": [
    "#### 2.3 Write a function that takes in a string, and returns the start and end substring combined.\n",
    "Hint:\n",
    "* if the input is `'abcd'`, the output would be `'ad'`"
   ]
  },
  {
   "cell_type": "code",
   "execution_count": 7,
   "metadata": {},
   "outputs": [],
   "source": [
    "def start_and_end_substring(x):\n",
    "    return x[0] + x[-1]"
   ]
  },
  {
   "cell_type": "markdown",
   "metadata": {},
   "source": [
    "#### 2.4 Write a function that takes in a dictionary, and prints out all the keys.\n",
    "Hint:\n",
    "* use `for loop`"
   ]
  },
  {
   "cell_type": "code",
   "execution_count": 8,
   "metadata": {},
   "outputs": [],
   "source": [
    "def print_keys(x):\n",
    "    for key in x:\n",
    "        print(key)"
   ]
  },
  {
   "cell_type": "markdown",
   "metadata": {},
   "source": [
    "#### (Optional) 2.5 Write a function that takes several integers as input, and returns the mean of them.\n",
    "Hint: \n",
    "* use `list()`\n",
    "* if input is `(1, 3, 5, 6)`, the output would be `3.75`"
   ]
  },
  {
   "cell_type": "code",
   "execution_count": 9,
   "metadata": {},
   "outputs": [],
   "source": [
    "def calculate_mean(*args):\n",
    "    lst = list(args)\n",
    "    mean = sum(lst) / len(lst)\n",
    "    return mean"
   ]
  },
  {
   "cell_type": "markdown",
   "metadata": {},
   "source": [
    "#### (Optional) 2.6 Write a function that takes several integers as input, and returns the median of them.returns 2.5.\n",
    "Hint: \n",
    "* use `list()`\n",
    "* if input is `(1, 2, 3, 4)`, the output would be `2.5`"
   ]
  },
  {
   "cell_type": "code",
   "execution_count": 10,
   "metadata": {},
   "outputs": [],
   "source": [
    "def calculate_median(*args):\n",
    "    lst = list(args)\n",
    "    sorted_lst = sorted(lst)\n",
    "    if len(lst) % 2 == 1:\n",
    "        median = lst[len(lst) // 2]\n",
    "    else:\n",
    "        median = (lst[len(lst) // 2 - 1] + lst[len(lst) // 2]) / 2\n",
    "    return median"
   ]
  },
  {
   "cell_type": "markdown",
   "metadata": {},
   "source": [
    "#### (Optional) 2.7 Write a function that uses a lambda expression that takes a list of integers, and returns the list of same input integers squared. \n",
    "Hint: \n",
    "* use `map()`\n",
    "* if input is `[1, 2, 3]`, then the output would be `[1, 4, 9]`"
   ]
  },
  {
   "cell_type": "code",
   "execution_count": 11,
   "metadata": {},
   "outputs": [],
   "source": [
    "def squared_lst(lst):\n",
    "    squared_lst = list(map(lambda x: x ** 2, lst))\n",
    "    return squared_lst"
   ]
  },
  {
   "cell_type": "markdown",
   "metadata": {},
   "source": [
    "#### (Optional) 2.8 Write a recursive function that takes an positive integer as input, and outputs the sum from 1 to that integer. \n",
    "Hint:\n",
    "* use `recursive function`\n",
    "* if input is `5`, then the output would be `15` (1 + 2 + 3 + 4 + 5)"
   ]
  },
  {
   "cell_type": "code",
   "execution_count": 12,
   "metadata": {},
   "outputs": [],
   "source": [
    "def calculate_sum(input_int):\n",
    "    if input_int == 1:\n",
    "        return 1\n",
    "    else:\n",
    "        return input_int + calculate_sum(input_int - 1)"
   ]
  },
  {
   "cell_type": "code",
   "execution_count": null,
   "metadata": {},
   "outputs": [],
   "source": []
  }
 ],
 "metadata": {
  "kernelspec": {
   "display_name": "Python 3 (ipykernel)",
   "language": "python",
   "name": "python3"
  },
  "language_info": {
   "codemirror_mode": {
    "name": "ipython",
    "version": 3
   },
   "file_extension": ".py",
   "mimetype": "text/x-python",
   "name": "python",
   "nbconvert_exporter": "python",
   "pygments_lexer": "ipython3",
   "version": "3.11.5"
  }
 },
 "nbformat": 4,
 "nbformat_minor": 4
}
