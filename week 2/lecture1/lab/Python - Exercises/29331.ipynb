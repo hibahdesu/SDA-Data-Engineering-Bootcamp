{
 "cells": [
  {
   "cell_type": "markdown",
   "metadata": {},
   "source": [
    "<center>\n",
    "    <img src=\"https://weclouddata.s3.amazonaws.com/images/logos/wcd_logo_new_2.png\" width='30%'> \n",
    "</center>\n",
    "\n",
    "----------\n",
    "\n",
    "<h1 align=\"center\"> Python - Exercises </h1>\n",
    "<br>\n",
    "<center align=\"left\"> <font size='4'>  Developed by: </font><font size='4' color='#33AAFBD'>WeCloudData</font></center>\n",
    "<br>\n",
    "\n",
    "----------"
   ]
  },
  {
   "cell_type": "markdown",
   "metadata": {},
   "source": [
    "## Exercise 1\n",
    "Using Python, calculate the following:\n",
    "\n",
    "There were 20 people on a bus. 10 got off. 3 came on. 15\n",
    "came on. 5 came off. If there were 3 more buses, and each had 15 people\n",
    "throughout the bus ride, how many people were on all the buses at the last\n",
    "stop?\n",
    "\n",
    "(Should be done via one equation)"
   ]
  },
  {
   "cell_type": "code",
   "execution_count": 3,
   "metadata": {
    "scrolled": true
   },
   "outputs": [
    {
     "data": {
      "text/plain": [
       "68"
      ]
     },
     "execution_count": 3,
     "metadata": {},
     "output_type": "execute_result"
    }
   ],
   "source": [
    "# Your code below\n",
    "bus = 20\n",
    "bus = bus - 10\n",
    "bus = bus + 3\n",
    "bus = bus + 15\n",
    "bus = bus - 5\n",
    "bus = bus + (3 * 15)\n",
    "bus"
   ]
  },
  {
   "cell_type": "markdown",
   "metadata": {},
   "source": [
    "## Exercise 2\n",
    "Given a list of unique integers extract the following:\n",
    "- The second highest number\n",
    "- Get the **three** lowest numbers"
   ]
  },
  {
   "cell_type": "code",
   "execution_count": 7,
   "metadata": {},
   "outputs": [
    {
     "name": "stdout",
     "output_type": "stream",
     "text": [
      "The second highest number 9\n",
      "The three lowest numbers [1, 3, 4]\n"
     ]
    }
   ],
   "source": [
    "lst = [9, 4, 7, 5, 1, 13, 3, 8]\n",
    "\n",
    "# Your code below\n",
    "lst.sort()\n",
    "print(f'The second highest number {lst[-2]}')\n",
    "print(f'The three lowest numbers {lst[:3]}')"
   ]
  },
  {
   "cell_type": "markdown",
   "metadata": {},
   "source": [
    "## Exercise 3\n",
    "Given a paragraph as a string, calculate the number of characters in the second sentence. (Whitespace counts as a character)"
   ]
  },
  {
   "cell_type": "code",
   "execution_count": 17,
   "metadata": {},
   "outputs": [
    {
     "name": "stdout",
     "output_type": "stream",
     "text": [
      "The Splitted Sentence ['This is a paragraph', 'It contains multiple sentences', 'It has three sentences to be exact.']\n",
      "Number of characters in the second sentence is 30\n"
     ]
    }
   ],
   "source": [
    "sentence = 'This is a paragraph. It contains multiple sentences. It has three sentences to be exact.'\n",
    "\n",
    "# Your code below\n",
    "sentence2 = sentence.split('. ')\n",
    "print(f'The Splitted Sentence {sentence2}')\n",
    "print(f'Number of characters in the second sentence is {len(sentence2[1])}')"
   ]
  },
  {
   "cell_type": "markdown",
   "metadata": {},
   "source": [
    "## Exercise 4\n",
    "Given an email address as a string, extract only the domain name. For example:\n",
    "- `'johnsmith@gmail.com'` => `'gmail'`\n",
    "- `'smithjohn@hotmail.com'` => `'hotmail'`\n",
    "\n",
    "Hint: You can use multiple splits"
   ]
  },
  {
   "cell_type": "code",
   "execution_count": 29,
   "metadata": {},
   "outputs": [
    {
     "name": "stdout",
     "output_type": "stream",
     "text": [
      "The domain name of johnsmith@gmail.com is: gmail\n",
      "The domain name of smithjohn@hotmail.com is: hotmail\n"
     ]
    }
   ],
   "source": [
    "email1 = 'johnsmith@gmail.com'\n",
    "email2 = 'smithjohn@hotmail.com'\n",
    "\n",
    "# Your code below\n",
    "email1.split('@')[1].split('.')[0]\n",
    "\n",
    "def domain_name(e):\n",
    "    e = e.split('@')[1].split('.')[0]\n",
    "    return e\n",
    "\n",
    "print(f'The domain name of johnsmith@gmail.com is: {domain_name(email1)}')\n",
    "print(f'The domain name of smithjohn@hotmail.com is: {domain_name(email2)}')"
   ]
  },
  {
   "cell_type": "markdown",
   "metadata": {},
   "source": [
    "## Exercise 5\n",
    "- Given a string of songs `'LA Story, Lost Stars, Grenade'`\n",
    "- And a list of movies `[Avengers, Iron Man, Hulk]`\n",
    "- Join the songs and the movies together as a variable called `favourites` (Hint: List1 + List2)\n",
    "- Finally, add a book named `'NYPD Red'` to the end of the list"
   ]
  },
  {
   "cell_type": "code",
   "execution_count": 44,
   "metadata": {},
   "outputs": [
    {
     "name": "stdout",
     "output_type": "stream",
     "text": [
      "['LA Story', 'Lost Stars', 'Grenade']\n"
     ]
    },
    {
     "data": {
      "text/plain": [
       "['LA Story',\n",
       " 'Lost Stars',\n",
       " 'Grenade',\n",
       " 'Avengers',\n",
       " 'Iron Man',\n",
       " 'Hulk',\n",
       " 'NYPD Red']"
      ]
     },
     "execution_count": 44,
     "metadata": {},
     "output_type": "execute_result"
    }
   ],
   "source": [
    "songs = 'LA Story, Lost Stars, Grenade'\n",
    "movies = ['Avengers', 'Iron Man', 'Hulk']\n",
    "\n",
    "# Your code below\n",
    "songs = songs.split(', ')\n",
    "\n",
    "print(songs)\n",
    "favourites = songs + movies\n",
    "\n",
    "favourites.append('NYPD Red')\n",
    "\n",
    "favourites"
   ]
  },
  {
   "cell_type": "markdown",
   "metadata": {},
   "source": [
    "## Exercise 6\n",
    "\n",
    "- Create a program to check if there will be rain\n",
    "- The program should ask the user 'What day of the week is it?' using the `input` function\n",
    "- Using an if statement, if the day is equal to 'Monday' or 'Tuesday', print 'Today is sunny'\n",
    "- If it is not, print 'Today it will rain'"
   ]
  },
  {
   "cell_type": "code",
   "execution_count": 49,
   "metadata": {},
   "outputs": [
    {
     "name": "stdout",
     "output_type": "stream",
     "text": [
      "What day of the week is it? monday\n",
      "Today is sunny\n"
     ]
    }
   ],
   "source": [
    "# Your code below\n",
    "day = input('What day of the week is it? ').capitalize()\n",
    "\n",
    "sunnay_days = [ 'Monday', 'Tuesday']\n",
    "if day in sunnay_days:\n",
    "    print('Today is sunny')\n",
    "else:\n",
    "    print('Today it will rain')"
   ]
  },
  {
   "cell_type": "markdown",
   "metadata": {},
   "source": [
    "## Exercise 7\n",
    "Given a dictionary that represents a user of an online grocery store, use Python to answer the following:\n",
    "- Is their password the same as their username?\n",
    "- How many characters in their email **before** the `@` symbol\n",
    "- How old are they as of this year?\n",
    "- How many items in their shopping cart?\n",
    "\n",
    "Change the dictionary to do the following:\n",
    "- Add a new item to the dictionary called `online`, set the value to be `False`\n",
    "- Remove `'milk'` from their shopping cart\n",
    "- Add `'super milk'` to their shopping cart"
   ]
  },
  {
   "cell_type": "code",
   "execution_count": 65,
   "metadata": {},
   "outputs": [
    {
     "name": "stdout",
     "output_type": "stream",
     "text": [
      "-----Part One Answer-------\n",
      "True\n",
      "7\n",
      "124\n",
      "4\n",
      "-----Part Two Answer-------\n",
      "The items in the shopping cart are ['bread', 'eggs', 'butter', 'super milk']\n"
     ]
    },
    {
     "data": {
      "text/plain": [
       "{'username': 'coolguy123',\n",
       " 'password': 'coolguy123',\n",
       " 'email': 'coolguy@email.com',\n",
       " 'year_of_birth': 1900,\n",
       " 'shopping_cart': ['bread', 'eggs', 'butter', 'super milk'],\n",
       " 'online': False}"
      ]
     },
     "execution_count": 65,
     "metadata": {},
     "output_type": "execute_result"
    }
   ],
   "source": [
    "user = {\n",
    "    'username': 'coolguy123',\n",
    "    'password': 'coolguy123',\n",
    "    'email': 'coolguy@email.com',\n",
    "    'year_of_birth': 1900,\n",
    "    'shopping_cart': ['milk', 'bread', 'eggs', 'butter']\n",
    "}\n",
    "\n",
    "print('-----Part One Answer-------')\n",
    "# Your code below\n",
    "print(user['username'] == user['password'])\n",
    "\n",
    "print(len(user['email'].split('@')[0]))\n",
    "\n",
    "print(2024 - user['year_of_birth'])\n",
    "\n",
    "print(len(user['shopping_cart']))\n",
    "\n",
    "\n",
    "print('-----Part Two Answer-------')\n",
    "user['online'] = False\n",
    "user['shopping_cart'].remove('milk')\n",
    "user['shopping_cart'].append('super milk')\n",
    "print(f'The items in the shopping cart are {user[\"shopping_cart\"]}')\n",
    "user"
   ]
  },
  {
   "cell_type": "markdown",
   "metadata": {},
   "source": [
    "## Exercise 8 \n",
    "\n",
    "- Create a list with the following numbers: `[42, 2, 9, 7, 3, 53, 18]`\n",
    "- Create a new list with only the even numbers from the first list"
   ]
  },
  {
   "cell_type": "code",
   "execution_count": 71,
   "metadata": {},
   "outputs": [
    {
     "data": {
      "text/plain": [
       "[42, 2, 18]"
      ]
     },
     "execution_count": 71,
     "metadata": {},
     "output_type": "execute_result"
    }
   ],
   "source": [
    "# Your code below\n",
    "my_list = [42, 2, 9, 7, 3, 53, 18]\n",
    "\n",
    "even_list = []\n",
    "\n",
    "for i in my_list:\n",
    "    if i % 2 == 0:\n",
    "        even_list.append(i)\n",
    "even_list"
   ]
  },
  {
   "cell_type": "markdown",
   "metadata": {},
   "source": [
    "## Exercise 9\n",
    "- The weight of a person on the moon is 1/6th the weight of a person standing on earth.\n",
    "- Let's say that your weight on earth increases by 1 kg every year\n",
    "- Write a program that will print your weight on the moon every year for the next 10 years\n",
    "- Your initial weight is 70kg\n"
   ]
  },
  {
   "cell_type": "code",
   "execution_count": 79,
   "metadata": {},
   "outputs": [
    {
     "name": "stdout",
     "output_type": "stream",
     "text": [
      "11.833333333333334\n",
      "12.0\n",
      "12.166666666666666\n",
      "12.333333333333334\n",
      "12.5\n",
      "12.666666666666666\n",
      "12.833333333333334\n",
      "13.0\n",
      "13.166666666666666\n",
      "13.333333333333334\n",
      "Your weight at the moon is: 13.333333333333334\n"
     ]
    }
   ],
   "source": [
    "# Your code below\n",
    "weight = 70\n",
    "\n",
    "for _ in range(10):\n",
    "    weight = weight + 1\n",
    "    moon_weight = (weight / 6)\n",
    "    print(moon_weight)\n",
    "print(f'Your weight at the moon is: {moon_weight}')"
   ]
  },
  {
   "cell_type": "markdown",
   "metadata": {},
   "source": [
    "## Exercise 10\n",
    "Imagine a store has sold 5 orders of its product. Given a list of the prices of each order and a list of quantities for each order, calculate the total sales revenue.\n",
    "\n",
    "If you'd like a challenge, try solving it in one line. (Hint: list comprehension)"
   ]
  },
  {
   "cell_type": "code",
   "execution_count": 88,
   "metadata": {},
   "outputs": [
    {
     "name": "stdout",
     "output_type": "stream",
     "text": [
      "5\n",
      "10\n",
      "1\n",
      "20\n",
      "7\n"
     ]
    },
    {
     "data": {
      "text/plain": [
       "202"
      ]
     },
     "execution_count": 88,
     "metadata": {},
     "output_type": "execute_result"
    }
   ],
   "source": [
    "prices = ['$5', '$10', '$1', '$20', '$7']\n",
    "quantities = [5, 2, 50, 5, 1]\n",
    "\n",
    "# Your code below\n",
    "\n",
    "total_sales_revenue = 0\n",
    "\n",
    "for i in range(len(prices)):\n",
    "    price = int(prices[i].replace('$', ''))\n",
    "    print(price)\n",
    "    items_num = quantities[i]\n",
    "    total_sales_revenue += price * items_num\n",
    "total_sales_revenue"
   ]
  },
  {
   "cell_type": "markdown",
   "metadata": {},
   "source": [
    "## Exercise 11\n",
    "Convert a String to a datetime or time Object.\n",
    "\n",
    "Hint: you may use either `datetime` or `time` module\n",
    "\n",
    "Output:\\\n",
    "2022-09-19 13:55:26"
   ]
  },
  {
   "cell_type": "code",
   "execution_count": 96,
   "metadata": {},
   "outputs": [
    {
     "name": "stdout",
     "output_type": "stream",
     "text": [
      "2022-09-19 13:55:26\n"
     ]
    }
   ],
   "source": [
    "datetime_str = '09/19/22 13:55:26'\n",
    "#Your code below\n",
    "from datetime import datetime\n",
    "type(datetime_str)\n",
    "\n",
    "time = datetime.strptime(datetime_str,  '%m/%d/%y %H:%M:%S')\n",
    "print(time)"
   ]
  },
  {
   "cell_type": "markdown",
   "metadata": {},
   "source": [
    "## Hangman\n",
    "\n",
    "Create a Hangman game. The rules of Hangman can be found at:  https://en.wikipedia.org/wiki/Hangman_(game). For our version of the game we'll do the following:\n",
    "- The answer will be set to `'kangaroo'`\n",
    "- Use the `input` function to get the user's guess\n",
    "- Display the current board (ka_a_oo) and current guessed letters every turn\n",
    "- The player has 5 incorrect guess until they lose\n",
    "- If the user guesses all letters end the program and print 'You win'\n",
    "- If the user makes 5 incorrect guesses print 'You lose'\n",
    "\n",
    "### Bonus\n",
    "Try improving your game. You can make it as complex as you'd like. Some ideas to try:\n",
    "- Give the user the option to guess the whole word instead of one letter at a time\n",
    "- Randomly generate the answer\n",
    "- Reformat your code using functions\n",
    "- Handle error cases\n",
    "    - ex. If the user inputs an uppercase letter or a number\n",
    "- Make the game two players\n",
    "    - One player creates the answer and the other guesses\n",
    "    - When they're done switch roles\n",
    "    - Play multiple rounds and keep score to declare the winner"
   ]
  },
  {
   "cell_type": "code",
   "execution_count": 105,
   "metadata": {},
   "outputs": [
    {
     "name": "stdout",
     "output_type": "stream",
     "text": [
      "Guess a letter: a\n",
      "['_', 'a', '_', '_', 'a', '_', '_', '_']\n",
      "[]\n",
      "Guess a letter: r\n",
      "['_', 'a', '_', '_', 'a', 'r', '_', '_']\n",
      "[]\n",
      "Guess a letter: k\n",
      "['k', 'a', '_', '_', 'a', 'r', '_', '_']\n",
      "[]\n",
      "Guess a letter: k\n",
      "['k', 'a', '_', '_', 'a', 'r', '_', '_']\n",
      "[]\n",
      "Guess a letter: k\n",
      "['k', 'a', '_', '_', 'a', 'r', '_', '_']\n",
      "[]\n",
      "Guess a letter: j\n",
      "['k', 'a', '_', '_', 'a', 'r', '_', '_']\n",
      "['j']\n",
      "Guess a letter: j\n",
      "['k', 'a', '_', '_', 'a', 'r', '_', '_']\n",
      "['j', 'j']\n",
      "Guess a letter: k\n",
      "['k', 'a', '_', '_', 'a', 'r', '_', '_']\n",
      "['j', 'j']\n",
      "Guess a letter: r\n",
      "['k', 'a', '_', '_', 'a', 'r', '_', '_']\n",
      "['j', 'j']\n",
      "Guess a letter: a\n",
      "['k', 'a', '_', '_', 'a', 'r', '_', '_']\n",
      "['j', 'j']\n",
      "Guess a letter: a\n",
      "['k', 'a', '_', '_', 'a', 'r', '_', '_']\n",
      "['j', 'j']\n",
      "Guess a letter: a\n",
      "['k', 'a', '_', '_', 'a', 'r', '_', '_']\n",
      "['j', 'j']\n",
      "Guess a letter: a\n",
      "['k', 'a', '_', '_', 'a', 'r', '_', '_']\n",
      "['j', 'j']\n",
      "Guess a letter: a\n",
      "['k', 'a', '_', '_', 'a', 'r', '_', '_']\n",
      "['j', 'j']\n",
      "Guess a letter: a\n",
      "['k', 'a', '_', '_', 'a', 'r', '_', '_']\n",
      "['j', 'j']\n",
      "Guess a letter: a\n",
      "['k', 'a', '_', '_', 'a', 'r', '_', '_']\n",
      "['j', 'j']\n",
      "Guess a letter: a\n",
      "['k', 'a', '_', '_', 'a', 'r', '_', '_']\n",
      "['j', 'j']\n",
      "Guess a letter: i\n",
      "['k', 'a', '_', '_', 'a', 'r', '_', '_']\n",
      "['j', 'j', 'i']\n",
      "Guess a letter: i\n",
      "['k', 'a', '_', '_', 'a', 'r', '_', '_']\n",
      "['j', 'j', 'i', 'i']\n",
      "Guess a letter: i\n",
      "['k', 'a', '_', '_', 'a', 'r', '_', '_']\n",
      "['j', 'j', 'i', 'i', 'i']\n",
      "You lose\n"
     ]
    }
   ],
   "source": [
    "# Your code below\n",
    "answer = 'kangaroo'\n",
    "max_guesses = 5\n",
    "incorrect_guesses = []\n",
    "board = ['_'] * len(answer)\n",
    "\n",
    "\n",
    "while (max_guesses > 0) and (''.join(board) != answer):\n",
    "    guess = input('Guess a letter: ')\n",
    "    \n",
    "    if guess in answer:\n",
    "        for i in range(len(answer)):\n",
    "            if guess == answer[i]:\n",
    "                board[i] = guess\n",
    "    else:\n",
    "        incorrect_guesses.append(guess)\n",
    "        max_guesses -= 1\n",
    "    \n",
    "    print(board)\n",
    "    print(incorrect_guesses)\n",
    "\n",
    "if ''.join(board) == answer:\n",
    "    print('You win!')\n",
    "else:\n",
    "    print('You lose')"
   ]
  },
  {
   "cell_type": "raw",
   "metadata": {},
   "source": []
  }
 ],
 "metadata": {
  "kernelspec": {
   "display_name": "Python 3 (ipykernel)",
   "language": "python",
   "name": "python3"
  },
  "language_info": {
   "codemirror_mode": {
    "name": "ipython",
    "version": 3
   },
   "file_extension": ".py",
   "mimetype": "text/x-python",
   "name": "python",
   "nbconvert_exporter": "python",
   "pygments_lexer": "ipython3",
   "version": "3.11.5"
  },
  "toc": {
   "base_numbering": 1,
   "nav_menu": {},
   "number_sections": false,
   "sideBar": true,
   "skip_h1_title": false,
   "title_cell": "Table of Contents",
   "title_sidebar": "Contents",
   "toc_cell": false,
   "toc_position": {},
   "toc_section_display": true,
   "toc_window_display": false
  }
 },
 "nbformat": 4,
 "nbformat_minor": 2
}
